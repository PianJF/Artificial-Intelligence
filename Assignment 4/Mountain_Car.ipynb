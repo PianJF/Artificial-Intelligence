{
 "cells": [
  {
   "cell_type": "code",
   "execution_count": 1,
   "metadata": {},
   "outputs": [],
   "source": [
    "import gym\n",
    "import numpy as np\n",
    "\n",
    "%matplotlib inline\n",
    "import matplotlib.pyplot as plt\n",
    "\n",
    "import time"
   ]
  },
  {
   "cell_type": "code",
   "execution_count": 2,
   "metadata": {},
   "outputs": [
    {
     "name": "stdout",
     "output_type": "stream",
     "text": [
      "\u001b[33mWARN: gym.spaces.Box autodetected dtype as <class 'numpy.float32'>. Please provide explicit dtype.\u001b[0m\n"
     ]
    }
   ],
   "source": [
    "env = gym.make(\"MountainCar-v0\")"
   ]
  },
  {
   "cell_type": "code",
   "execution_count": 3,
   "metadata": {},
   "outputs": [
    {
     "name": "stdout",
     "output_type": "stream",
     "text": [
      "[0.5051130657790925, 0.016822175024053566] -1.0 True {}\n"
     ]
    },
    {
     "name": "stdout",
     "output_type": "stream",
     "text": [
      "[0.5074056585036806, 0.03078733707404909] -1.0 True {}\n"
     ]
    },
    {
     "name": "stdout",
     "output_type": "stream",
     "text": [
      "[-0.6642693302639654, 0.05608842103232296] -1.0 True {}\n"
     ]
    },
    {
     "name": "stdout",
     "output_type": "stream",
     "text": [
      "[0.4105426267003939, 0.03814887315154693] -1.0 True {}\n"
     ]
    },
    {
     "name": "stdout",
     "output_type": "stream",
     "text": [
      "[-0.0008506409489279984, 0.05289835409637138] -1.0 True {}\n"
     ]
    }
   ],
   "source": [
    "env.reset()\n",
    "\n",
    "\n",
    "for episode in range(5):\n",
    "    curPos, curVel = env.reset()\n",
    "    [newPos, newVel],reward, done, _  = env.step(2)\n",
    "\n",
    "    while not done:\n",
    "        env.render()\n",
    "        if newPos > curPos or newPos < -0.9:\n",
    "            curPos = newPos\n",
    "            [newPos, newVel],reward, done, _  = env.step(2)\n",
    "        else:\n",
    "            curPos = newPos\n",
    "            [newPos, newVel],reward, done, _  = env.step(1)\n",
    "        env.close()\n",
    "    print([newPos, newVel],reward, done, _)"
   ]
  },
  {
   "cell_type": "markdown",
   "metadata": {},
   "source": [
    ""
   ]
  },
  {
   "cell_type": "markdown",
   "metadata": {},
   "source": [
    "# Policy explanation\n",
    "Check the position change each step,if new position is greather than the old postion which means inclining, then keep going right. Or the car is reach position -0.9, to prevent the car get out from the left side.\n",
    "Other wise, go left."
   ]
  },
  {
   "cell_type": "code",
   "execution_count": null,
   "metadata": {},
   "outputs": [],
   "source": [
    ""
   ]
  }
 ],
 "metadata": {
  "kernelspec": {
   "display_name": "Python 3",
   "language": "python",
   "name": "python3"
  },
  "language_info": {
   "codemirror_mode": {
    "name": "ipython",
    "version": 3.0
   },
   "file_extension": ".py",
   "mimetype": "text/x-python",
   "name": "python",
   "nbconvert_exporter": "python",
   "pygments_lexer": "ipython3",
   "version": "3.7.0"
  }
 },
 "nbformat": 4,
 "nbformat_minor": 0
}