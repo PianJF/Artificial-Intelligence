{
 "cells": [
  {
   "cell_type": "code",
   "execution_count": 1,
   "metadata": {},
   "outputs": [],
   "source": [
    "import gym\n",
    "import numpy as np\n",
    "\n",
    "%matplotlib inline\n",
    "import matplotlib.pyplot as plt\n",
    "\n",
    "import time"
   ]
  },
  {
   "cell_type": "code",
   "execution_count": 2,
   "metadata": {},
   "outputs": [
    {
     "name": "stdout",
     "output_type": "stream",
     "text": [
      "\u001b[33mWARN: gym.spaces.Box autodetected dtype as <class 'numpy.float32'>. Please provide explicit dtype.\u001b[0m\n"
     ]
    }
   ],
   "source": [
    "env = gym.make(\"MountainCar-v0\")"
   ]
  },
  {
   "cell_type": "code",
   "execution_count": 3,
   "metadata": {},
   "outputs": [
    {
     "name": "stdout",
     "output_type": "stream",
     "text": [
      "[0.35816122057090777, 0.0397612462537631] -1.0 True {}\n"
     ]
    },
    {
     "name": "stdout",
     "output_type": "stream",
     "text": [
      "[-0.09907224150609353, 0.056559677045674245] -1.0 True {}\n"
     ]
    },
    {
     "name": "stdout",
     "output_type": "stream",
     "text": [
      "[0.24439598250835046, 0.04352284825991953] -1.0 True {}\n"
     ]
    },
    {
     "name": "stdout",
     "output_type": "stream",
     "text": [
      "[0.3530545699882458, 0.039910849419500544] -1.0 True {}\n"
     ]
    },
    {
     "name": "stdout",
     "output_type": "stream",
     "text": [
      "[0.5086593950734886, 0.017111521395465863] -1.0 True {}\n"
     ]
    }
   ],
   "source": [
    "env.reset()\n",
    "\n",
    "\n",
    "for episode in range(5):\n",
    "    curPos, curVel = env.reset()\n",
    "    [newPos, newVel], reward, done, _  = env.step(2)\n",
    "\n",
    "    while not done:\n",
    "        env.render()\n",
    "        if newPos > curPos or newPos < -0.9:\n",
    "            curPos = newPos\n",
    "            [newPos, newVel], reward, done, _  = env.step(2)\n",
    "        else:\n",
    "            curPos = newPos\n",
    "            [newPos, newVel], reward, done, _  = env.step(1)\n",
    "        env.close()\n",
    "    print([newPos, newVel], reward, done, _)"
   ]
  },
  {
   "cell_type": "markdown",
   "metadata": {},
   "source": [
    ""
   ]
  },
  {
   "cell_type": "markdown",
   "metadata": {},
   "source": [
    "# Policy explanation\n",
    "Check the position change each step,if new position is greather than the old postion which means inclining, then keep going right. Or the car is reach position -0.9, to prevent the car get out from the left side.\n",
    "Other wise, go left."
   ]
  },
  {
   "cell_type": "code",
   "execution_count": null,
   "metadata": {},
   "outputs": [],
   "source": [
    ""
   ]
  }
 ],
 "metadata": {
  "kernelspec": {
   "display_name": "Python 3",
   "language": "python",
   "name": "python3"
  },
  "language_info": {
   "codemirror_mode": {
    "name": "ipython",
    "version": 3
   },
   "file_extension": ".py",
   "mimetype": "text/x-python",
   "name": "python",
   "nbconvert_exporter": "python",
   "pygments_lexer": "ipython3",
   "version": "3.7.0"
  }
 },
 "nbformat": 4,
 "nbformat_minor": 0
}
