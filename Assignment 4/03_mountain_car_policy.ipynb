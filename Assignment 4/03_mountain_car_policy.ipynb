{
 "cells": [
  {
   "cell_type": "markdown",
   "metadata": {},
   "source": [
    "# Mountain car #"
   ]
  },
  {
   "cell_type": "markdown",
   "metadata": {},
   "source": [
    "# I add the modified reward function and applied to the training.\n",
    "# But the training result stop increasing around -0.3"
   ]
  },
  {
   "cell_type": "markdown",
   "metadata": {},
   "source": [
    "## Imports ##"
   ]
  },
  {
   "cell_type": "code",
   "execution_count": null,
   "metadata": {},
   "outputs": [],
   "source": [
    "import gym\n",
    "import tensorflow as tf\n",
    "import numpy as np\n",
    "\n",
    "%matplotlib inline\n",
    "import matplotlib.pyplot as plt"
   ]
  },
  {
   "cell_type": "markdown",
   "metadata": {},
   "source": [
    "## Environment ##"
   ]
  },
  {
   "cell_type": "code",
   "execution_count": 2,
   "metadata": {},
   "outputs": [
    {
     "name": "stdout",
     "output_type": "stream",
     "text": [
      "\u001b[33mWARN: gym.spaces.Box autodetected dtype as <class 'numpy.float32'>. Please provide explicit dtype.\u001b[0m\n"
     ]
    }
   ],
   "source": [
    "# Create the Mountain Car game environment\n",
    "env = gym.make('MountainCar-v0')"
   ]
  },
  {
   "cell_type": "markdown",
   "metadata": {},
   "source": [
    "## Hyperparameters ##"
   ]
  },
  {
   "cell_type": "code",
   "execution_count": 3,
   "metadata": {},
   "outputs": [],
   "source": [
    "# Environment parameters\n",
    "state_size = 2      # state size 2\n",
    "action_size = 3\n",
    "\n",
    "hidden_layer_size = 128\n",
    "\n",
    "batch_size = 25\n",
    "\n",
    "learning_rate = 0.01\n",
    "\n",
    "max_episodes = 100\n",
    "\n",
    "max_steps = 200\n",
    "percentile = 70"
   ]
  },
  {
   "cell_type": "markdown",
   "metadata": {},
   "source": [
    "## Neural network ##"
   ]
  },
  {
   "cell_type": "code",
   "execution_count": 4,
   "metadata": {},
   "outputs": [],
   "source": [
    "class Net:\n",
    "    def __init__(self, \n",
    "                 state_size = state_size, \n",
    "                 action_size = action_size, \n",
    "                 hidden_layer_size = hidden_layer_size,\n",
    "                 learning_rate = learning_rate, \n",
    "                 name = 'net'):\n",
    "        \n",
    "        with tf.variable_scope(name):\n",
    "        \n",
    "            ### Prediction part\n",
    "        \n",
    "            # Input layer, state s is input\n",
    "            self.states = tf.placeholder(\n",
    "                tf.float32, \n",
    "                [None, state_size])\n",
    "            \n",
    "            # Hidden layer, ReLU activation\n",
    "            self.hidden_layer = tf.contrib.layers.fully_connected(\n",
    "                self.states, \n",
    "                hidden_layer_size)\n",
    "            \n",
    "            # Hidden layer, linear activation, logits\n",
    "            self.logits = tf.contrib.layers.fully_connected(\n",
    "                self.hidden_layer, \n",
    "                action_size,\n",
    "                activation_fn = None)\n",
    "            \n",
    "            # Output layer, softmax activation yields probability distribution for actions\n",
    "            self.probabilities = tf.nn.softmax(self.logits)\n",
    "    \n",
    "            ### Training part \n",
    "    \n",
    "            # Action a\n",
    "            self.actions = tf.placeholder(\n",
    "                tf.int32, \n",
    "                [None])\n",
    "            \n",
    "            # One-hot encoded action a \n",
    "            #\n",
    "            # encoded_action_vector = [1, 0] if action a = 0\n",
    "            # encoded_action_vector = [0, 1] if action a = 1\n",
    "            self.one_hot_actions = tf.one_hot(\n",
    "                self.actions, \n",
    "                action_size)\n",
    "\n",
    "            # cross entropy\n",
    "            self.cross_entropy = tf.nn.softmax_cross_entropy_with_logits_v2(\n",
    "                logits = self.logits, \n",
    "                labels = self.one_hot_actions)\n",
    "            \n",
    "            # cost\n",
    "            self.cost = tf.reduce_mean(self.cross_entropy)\n",
    "            \n",
    "            # Optimizer\n",
    "            self.optimizer = tf.train.AdamOptimizer(learning_rate).minimize(self.cost)\n",
    "            \n",
    "    # get action chosen according to current probabilistic policy\n",
    "    def get_action(self, state):\n",
    "        feed_dict = { self.states : np.array([state]) } \n",
    "        probabilities = sess.run(self.probabilities, feed_dict = feed_dict)\n",
    "        \n",
    "        return np.random.choice(action_size, p=probabilities[0])\n",
    "    \n",
    "    # train based on batch\n",
    "    def train(self, batch):\n",
    "        states, actions = zip(*batch)\n",
    "        states = np.array(states)\n",
    "        actions = np.array(actions)\n",
    "        \n",
    "        feed_dict = {\n",
    "            self.states : states,\n",
    "            self.actions : actions\n",
    "        }\n",
    "        \n",
    "        sess.run(self.optimizer, feed_dict = feed_dict)"
   ]
  },
  {
   "cell_type": "markdown",
   "metadata": {},
   "source": [
    "## Training ##"
   ]
  },
  {
   "cell_type": "code",
   "execution_count": 5,
   "metadata": {},
   "outputs": [],
   "source": [
    "tf.reset_default_graph()\n",
    "net = Net(name = 'net',\n",
    "          hidden_layer_size = hidden_layer_size,\n",
    "          learning_rate = learning_rate)\n"
   ]
  },
  {
   "cell_type": "code",
   "execution_count": 6,
   "metadata": {},
   "outputs": [],
   "source": [
    "def compute_modified_reward(next_state):\n",
    "    modified_reward = np.square(max(0, next_state[0] + 0.5))\n",
    "    if next_state[0] >= 0.5: \n",
    "        modified_reward += 1.0\n",
    "    return modified_reward"
   ]
  },
  {
   "cell_type": "code",
   "execution_count": 7,
   "metadata": {},
   "outputs": [
    {
     "name": "stdout",
     "output_type": "stream",
     "text": [
      "End position: -0.6448342391113898\n"
     ]
    },
    {
     "name": "stdout",
     "output_type": "stream",
     "text": [
      "End position: -0.4562627377788806\n"
     ]
    },
    {
     "name": "stdout",
     "output_type": "stream",
     "text": [
      "End position: -0.3754537453623141\n"
     ]
    },
    {
     "name": "stdout",
     "output_type": "stream",
     "text": [
      "End position: -0.6085727443430691\n"
     ]
    },
    {
     "name": "stdout",
     "output_type": "stream",
     "text": [
      "End position: -0.42130619360469296\n"
     ]
    },
    {
     "name": "stdout",
     "output_type": "stream",
     "text": [
      "End position: -0.42401494982051\n"
     ]
    },
    {
     "name": "stdout",
     "output_type": "stream",
     "text": [
      "End position: -0.515912073511893\n"
     ]
    },
    {
     "name": "stdout",
     "output_type": "stream",
     "text": [
      "End position: -0.5064787567679532\n"
     ]
    },
    {
     "name": "stdout",
     "output_type": "stream",
     "text": [
      "End position: -0.4088542470343344\n"
     ]
    },
    {
     "name": "stdout",
     "output_type": "stream",
     "text": [
      "End position: -0.5501306031787206\n"
     ]
    },
    {
     "name": "stdout",
     "output_type": "stream",
     "text": [
      "End position: -0.5881422809027232\n"
     ]
    },
    {
     "name": "stdout",
     "output_type": "stream",
     "text": [
      "End position: -0.37437193806746544\n"
     ]
    },
    {
     "name": "stdout",
     "output_type": "stream",
     "text": [
      "End position: -0.49322673784922055\n"
     ]
    },
    {
     "name": "stdout",
     "output_type": "stream",
     "text": [
      "End position: -0.5692522184884775\n"
     ]
    },
    {
     "name": "stdout",
     "output_type": "stream",
     "text": [
      "End position: -0.4996309844322175\n"
     ]
    },
    {
     "name": "stdout",
     "output_type": "stream",
     "text": [
      "End position: -0.40671003317787435\n"
     ]
    },
    {
     "name": "stdout",
     "output_type": "stream",
     "text": [
      "End position: -0.3763804493752018\n"
     ]
    },
    {
     "name": "stdout",
     "output_type": "stream",
     "text": [
      "End position: -0.41904898579692407\n"
     ]
    },
    {
     "name": "stdout",
     "output_type": "stream",
     "text": [
      "End position: -0.36285249035425854\n"
     ]
    },
    {
     "name": "stdout",
     "output_type": "stream",
     "text": [
      "End position: -0.48391218270819575\n"
     ]
    },
    {
     "name": "stdout",
     "output_type": "stream",
     "text": [
      "End position: -0.41719556306483785\n"
     ]
    },
    {
     "name": "stdout",
     "output_type": "stream",
     "text": [
      "End position: -0.4879333310784945\n"
     ]
    },
    {
     "name": "stdout",
     "output_type": "stream",
     "text": [
      "End position: -0.40471520428633684\n"
     ]
    },
    {
     "name": "stdout",
     "output_type": "stream",
     "text": [
      "End position: -0.5248990574818507\n"
     ]
    },
    {
     "name": "stdout",
     "output_type": "stream",
     "text": [
      "End position: -0.485428023230638\n"
     ]
    },
    {
     "name": "stdout",
     "output_type": "stream",
     "text": [
      "End position: -0.682491624689178\n"
     ]
    },
    {
     "name": "stdout",
     "output_type": "stream",
     "text": [
      "End position: -0.6006082081503761\n"
     ]
    },
    {
     "name": "stdout",
     "output_type": "stream",
     "text": [
      "End position: -0.6161063411207618\n"
     ]
    },
    {
     "name": "stdout",
     "output_type": "stream",
     "text": [
      "End position: -0.535333587612642\n"
     ]
    },
    {
     "name": "stdout",
     "output_type": "stream",
     "text": [
      "End position: -0.4811050135745817\n"
     ]
    },
    {
     "name": "stdout",
     "output_type": "stream",
     "text": [
      "End position: -0.5975439012551983\n"
     ]
    },
    {
     "name": "stdout",
     "output_type": "stream",
     "text": [
      "End position: -0.3470564586429323\n"
     ]
    },
    {
     "name": "stdout",
     "output_type": "stream",
     "text": [
      "End position: -0.6375244656215703\n"
     ]
    },
    {
     "name": "stdout",
     "output_type": "stream",
     "text": [
      "End position: -0.5427160535262586\n"
     ]
    },
    {
     "name": "stdout",
     "output_type": "stream",
     "text": [
      "End position: -0.5113014101732839\n"
     ]
    },
    {
     "name": "stdout",
     "output_type": "stream",
     "text": [
      "End position: -0.5374448287275089\n"
     ]
    },
    {
     "name": "stdout",
     "output_type": "stream",
     "text": [
      "End position: -0.4162633283141251\n"
     ]
    },
    {
     "name": "stdout",
     "output_type": "stream",
     "text": [
      "End position: -0.4792420581720645\n"
     ]
    },
    {
     "name": "stdout",
     "output_type": "stream",
     "text": [
      "End position: -0.5569555403024792\n"
     ]
    },
    {
     "name": "stdout",
     "output_type": "stream",
     "text": [
      "End position: -0.5344495879299886\n"
     ]
    },
    {
     "name": "stdout",
     "output_type": "stream",
     "text": [
      "End position: -0.5775698913462152\n"
     ]
    },
    {
     "name": "stdout",
     "output_type": "stream",
     "text": [
      "End position: -0.5203605227745263\n"
     ]
    },
    {
     "name": "stdout",
     "output_type": "stream",
     "text": [
      "End position: -0.543068199651455\n"
     ]
    },
    {
     "name": "stdout",
     "output_type": "stream",
     "text": [
      "End position: -0.4213127976983681\n"
     ]
    },
    {
     "name": "stdout",
     "output_type": "stream",
     "text": [
      "End position: -0.4455251867543497\n"
     ]
    },
    {
     "name": "stdout",
     "output_type": "stream",
     "text": [
      "End position: -0.4837078593092145\n"
     ]
    },
    {
     "name": "stdout",
     "output_type": "stream",
     "text": [
      "End position: -0.34016472566137046\n"
     ]
    },
    {
     "name": "stdout",
     "output_type": "stream",
     "text": [
      "End position: -0.3767492263378374\n"
     ]
    },
    {
     "name": "stdout",
     "output_type": "stream",
     "text": [
      "End position: -0.5156552198694143\n"
     ]
    },
    {
     "name": "stdout",
     "output_type": "stream",
     "text": [
      "End position: -0.468284228820173\n"
     ]
    },
    {
     "name": "stdout",
     "output_type": "stream",
     "text": [
      "End position: -0.31817760868032874\n"
     ]
    },
    {
     "name": "stdout",
     "output_type": "stream",
     "text": [
      "End position: -0.42857285035675474\n"
     ]
    },
    {
     "name": "stdout",
     "output_type": "stream",
     "text": [
      "End position: -0.3338847697118909\n"
     ]
    },
    {
     "name": "stdout",
     "output_type": "stream",
     "text": [
      "End position: -0.45155106999863975\n"
     ]
    },
    {
     "name": "stdout",
     "output_type": "stream",
     "text": [
      "End position: -0.3834986535498076\n"
     ]
    },
    {
     "name": "stdout",
     "output_type": "stream",
     "text": [
      "End position: -0.37554656421969373\n"
     ]
    },
    {
     "name": "stdout",
     "output_type": "stream",
     "text": [
      "End position: -0.07824849212408487\n"
     ]
    },
    {
     "name": "stdout",
     "output_type": "stream",
     "text": [
      "End position: -0.3204696212720035\n"
     ]
    },
    {
     "name": "stdout",
     "output_type": "stream",
     "text": [
      "End position: -0.42975460357398076\n"
     ]
    },
    {
     "name": "stdout",
     "output_type": "stream",
     "text": [
      "End position: -0.37778672167867383\n"
     ]
    },
    {
     "name": "stdout",
     "output_type": "stream",
     "text": [
      "End position: -0.3854027899995954\n"
     ]
    },
    {
     "name": "stdout",
     "output_type": "stream",
     "text": [
      "End position: -0.27015505396365996\n"
     ]
    },
    {
     "name": "stdout",
     "output_type": "stream",
     "text": [
      "End position: -0.38767749074208996\n"
     ]
    },
    {
     "name": "stdout",
     "output_type": "stream",
     "text": [
      "End position: -0.15078011538837394\n"
     ]
    },
    {
     "name": "stdout",
     "output_type": "stream",
     "text": [
      "End position: -0.36149412457435753\n"
     ]
    },
    {
     "name": "stdout",
     "output_type": "stream",
     "text": [
      "End position: -0.3480906155777282\n"
     ]
    },
    {
     "name": "stdout",
     "output_type": "stream",
     "text": [
      "End position: -0.3313890108791504\n"
     ]
    },
    {
     "name": "stdout",
     "output_type": "stream",
     "text": [
      "End position: -0.4354483623364423\n"
     ]
    },
    {
     "name": "stdout",
     "output_type": "stream",
     "text": [
      "End position: -0.3219171096201738\n"
     ]
    },
    {
     "name": "stdout",
     "output_type": "stream",
     "text": [
      "End position: -0.11979988248236774\n"
     ]
    },
    {
     "name": "stdout",
     "output_type": "stream",
     "text": [
      "End position: -0.4361218582143981\n"
     ]
    },
    {
     "name": "stdout",
     "output_type": "stream",
     "text": [
      "End position: -0.10585080125876194\n"
     ]
    },
    {
     "name": "stdout",
     "output_type": "stream",
     "text": [
      "End position: -0.3770571299594501\n"
     ]
    },
    {
     "name": "stdout",
     "output_type": "stream",
     "text": [
      "End position: -0.3963616240670396\n"
     ]
    },
    {
     "name": "stdout",
     "output_type": "stream",
     "text": [
      "End position: -0.31714950039139156\n"
     ]
    },
    {
     "name": "stdout",
     "output_type": "stream",
     "text": [
      "End position: -0.35992733857646153\n"
     ]
    },
    {
     "name": "stdout",
     "output_type": "stream",
     "text": [
      "End position: -0.15031108590545222\n"
     ]
    },
    {
     "name": "stdout",
     "output_type": "stream",
     "text": [
      "End position: -0.40470255622193596\n"
     ]
    },
    {
     "name": "stdout",
     "output_type": "stream",
     "text": [
      "End position: -0.42200798900650843\n"
     ]
    },
    {
     "name": "stdout",
     "output_type": "stream",
     "text": [
      "End position: -0.34544743047849213\n"
     ]
    },
    {
     "name": "stdout",
     "output_type": "stream",
     "text": [
      "End position: -0.43266624441565976\n"
     ]
    },
    {
     "name": "stdout",
     "output_type": "stream",
     "text": [
      "End position: -0.35066107389172974\n"
     ]
    },
    {
     "name": "stdout",
     "output_type": "stream",
     "text": [
      "End position: -0.38701493363185435\n"
     ]
    },
    {
     "name": "stdout",
     "output_type": "stream",
     "text": [
      "End position: -0.2045830472113576\n"
     ]
    },
    {
     "name": "stdout",
     "output_type": "stream",
     "text": [
      "End position: -0.3351846331336688\n"
     ]
    },
    {
     "name": "stdout",
     "output_type": "stream",
     "text": [
      "End position: -0.42082985065388867\n"
     ]
    },
    {
     "name": "stdout",
     "output_type": "stream",
     "text": [
      "End position: -0.33486236359097793\n"
     ]
    },
    {
     "name": "stdout",
     "output_type": "stream",
     "text": [
      "End position: -0.24345544761314256\n"
     ]
    },
    {
     "name": "stdout",
     "output_type": "stream",
     "text": [
      "End position: -0.4061798849310984\n"
     ]
    },
    {
     "name": "stdout",
     "output_type": "stream",
     "text": [
      "End position: -0.3446103969590514\n"
     ]
    },
    {
     "name": "stdout",
     "output_type": "stream",
     "text": [
      "End position: -0.2693428462247567\n"
     ]
    },
    {
     "name": "stdout",
     "output_type": "stream",
     "text": [
      "End position: -0.3808973105523637\n"
     ]
    },
    {
     "name": "stdout",
     "output_type": "stream",
     "text": [
      "End position: -0.29980165189485225\n"
     ]
    },
    {
     "name": "stdout",
     "output_type": "stream",
     "text": [
      "End position: -0.21643915755854218\n"
     ]
    },
    {
     "name": "stdout",
     "output_type": "stream",
     "text": [
      "End position: -0.4231212404073488\n"
     ]
    },
    {
     "name": "stdout",
     "output_type": "stream",
     "text": [
      "End position: -0.3064056432583044\n"
     ]
    },
    {
     "name": "stdout",
     "output_type": "stream",
     "text": [
      "End position: -0.2999951461691214\n"
     ]
    },
    {
     "name": "stdout",
     "output_type": "stream",
     "text": [
      "End position: -0.30549582193352004\n"
     ]
    },
    {
     "name": "stdout",
     "output_type": "stream",
     "text": [
      "End position: -0.2535005750989408\n"
     ]
    },
    {
     "name": "stdout",
     "output_type": "stream",
     "text": [
      "End position: -0.3285697984541246\n"
     ]
    },
    {
     "name": "stdout",
     "output_type": "stream",
     "text": [
      "End position: -0.3006334539486324\n"
     ]
    },
    {
     "name": "stdout",
     "output_type": "stream",
     "text": [
      "End position: -0.3330244192876813\n"
     ]
    },
    {
     "name": "stdout",
     "output_type": "stream",
     "text": [
      "End position: -0.2690253497943694\n"
     ]
    },
    {
     "name": "stdout",
     "output_type": "stream",
     "text": [
      "End position: -0.364871652642203\n"
     ]
    },
    {
     "name": "stdout",
     "output_type": "stream",
     "text": [
      "End position: -0.22016849255855214\n"
     ]
    },
    {
     "name": "stdout",
     "output_type": "stream",
     "text": [
      "End position: -0.397089914878973\n"
     ]
    },
    {
     "name": "stdout",
     "output_type": "stream",
     "text": [
      "End position: -0.34396853262308513\n"
     ]
    },
    {
     "name": "stdout",
     "output_type": "stream",
     "text": [
      "End position: -0.2909718065985115\n"
     ]
    },
    {
     "name": "stdout",
     "output_type": "stream",
     "text": [
      "End position: -0.4423642134111934\n"
     ]
    },
    {
     "name": "stdout",
     "output_type": "stream",
     "text": [
      "End position: -0.36712615612890376\n"
     ]
    },
    {
     "name": "stdout",
     "output_type": "stream",
     "text": [
      "End position: -0.39744163074050487\n"
     ]
    },
    {
     "name": "stdout",
     "output_type": "stream",
     "text": [
      "End position: -0.334484114534109\n"
     ]
    },
    {
     "name": "stdout",
     "output_type": "stream",
     "text": [
      "End position: -0.37680338987261974\n"
     ]
    },
    {
     "name": "stdout",
     "output_type": "stream",
     "text": [
      "End position: -0.31268721629354745\n"
     ]
    },
    {
     "name": "stdout",
     "output_type": "stream",
     "text": [
      "End position: -0.2974461769603727\n"
     ]
    },
    {
     "name": "stdout",
     "output_type": "stream",
     "text": [
      "End position: -0.24993705415683803\n"
     ]
    },
    {
     "name": "stdout",
     "output_type": "stream",
     "text": [
      "End position: -0.3423197788987085\n"
     ]
    },
    {
     "name": "stdout",
     "output_type": "stream",
     "text": [
      "End position: -0.24904918326838762\n"
     ]
    },
    {
     "name": "stdout",
     "output_type": "stream",
     "text": [
      "End position: -0.4191030599655283\n"
     ]
    },
    {
     "name": "stdout",
     "output_type": "stream",
     "text": [
      "End position: -0.4159023213130874\n"
     ]
    },
    {
     "name": "stdout",
     "output_type": "stream",
     "text": [
      "End position: -0.37217667920611375\n"
     ]
    },
    {
     "name": "stdout",
     "output_type": "stream",
     "text": [
      "End position: -0.44213621005336096\n"
     ]
    },
    {
     "name": "stdout",
     "output_type": "stream",
     "text": [
      "End position: -0.26681532863148627\n"
     ]
    },
    {
     "name": "stdout",
     "output_type": "stream",
     "text": [
      "End position: -0.4166296884031015\n"
     ]
    },
    {
     "name": "stdout",
     "output_type": "stream",
     "text": [
      "End position: -0.38558354754775687\n"
     ]
    },
    {
     "name": "stdout",
     "output_type": "stream",
     "text": [
      "End position: -0.39019783167468075\n"
     ]
    },
    {
     "name": "stdout",
     "output_type": "stream",
     "text": [
      "End position: -0.28034372223878123\n"
     ]
    },
    {
     "name": "stdout",
     "output_type": "stream",
     "text": [
      "End position: -0.3028071360669408\n"
     ]
    },
    {
     "name": "stdout",
     "output_type": "stream",
     "text": [
      "End position: -0.34884440513520837\n"
     ]
    },
    {
     "name": "stdout",
     "output_type": "stream",
     "text": [
      "End position: -0.38985797622795004\n"
     ]
    },
    {
     "name": "stdout",
     "output_type": "stream",
     "text": [
      "End position: -0.22132870939245267\n"
     ]
    },
    {
     "name": "stdout",
     "output_type": "stream",
     "text": [
      "End position: -0.17403853142133008\n"
     ]
    },
    {
     "name": "stdout",
     "output_type": "stream",
     "text": [
      "End position: -0.23898589975675127\n"
     ]
    },
    {
     "name": "stdout",
     "output_type": "stream",
     "text": [
      "End position: -0.2223167020337945\n"
     ]
    },
    {
     "name": "stdout",
     "output_type": "stream",
     "text": [
      "End position: -0.34323156572529584\n"
     ]
    },
    {
     "name": "stdout",
     "output_type": "stream",
     "text": [
      "End position: -0.19016292061273243\n"
     ]
    },
    {
     "name": "stdout",
     "output_type": "stream",
     "text": [
      "End position: -0.22301211220292988\n"
     ]
    },
    {
     "name": "stdout",
     "output_type": "stream",
     "text": [
      "End position: -0.2505907603446471\n"
     ]
    },
    {
     "name": "stdout",
     "output_type": "stream",
     "text": [
      "End position: -0.3775696334778011\n"
     ]
    },
    {
     "name": "stdout",
     "output_type": "stream",
     "text": [
      "End position: -0.330706077330306\n"
     ]
    },
    {
     "name": "stdout",
     "output_type": "stream",
     "text": [
      "End position: -0.3082726639900054\n"
     ]
    },
    {
     "name": "stdout",
     "output_type": "stream",
     "text": [
      "End position: -0.27895676033315686\n"
     ]
    },
    {
     "name": "stdout",
     "output_type": "stream",
     "text": [
      "End position: -0.3471379780810693\n"
     ]
    },
    {
     "name": "stdout",
     "output_type": "stream",
     "text": [
      "End position: -0.3534988347544222\n"
     ]
    },
    {
     "name": "stdout",
     "output_type": "stream",
     "text": [
      "End position: -0.3361222522519265\n"
     ]
    },
    {
     "name": "stdout",
     "output_type": "stream",
     "text": [
      "End position: -0.3334867913602108\n"
     ]
    },
    {
     "name": "stdout",
     "output_type": "stream",
     "text": [
      "End position: -0.30579075897821395\n"
     ]
    },
    {
     "name": "stdout",
     "output_type": "stream",
     "text": [
      "End position: -0.27628161689012487\n"
     ]
    },
    {
     "name": "stdout",
     "output_type": "stream",
     "text": [
      "End position: -0.3503351448238377\n"
     ]
    },
    {
     "name": "stdout",
     "output_type": "stream",
     "text": [
      "End position: -0.3454298625073889\n"
     ]
    },
    {
     "name": "stdout",
     "output_type": "stream",
     "text": [
      "End position: -0.36767483296097914\n"
     ]
    },
    {
     "name": "stdout",
     "output_type": "stream",
     "text": [
      "End position: -0.27255406410401983\n"
     ]
    },
    {
     "name": "stdout",
     "output_type": "stream",
     "text": [
      "End position: -0.19196918208853636\n"
     ]
    },
    {
     "name": "stdout",
     "output_type": "stream",
     "text": [
      "End position: -0.2343680668923729\n"
     ]
    },
    {
     "name": "stdout",
     "output_type": "stream",
     "text": [
      "End position: -0.309332998142807\n"
     ]
    },
    {
     "name": "stdout",
     "output_type": "stream",
     "text": [
      "End position: -0.2947402551276612\n"
     ]
    },
    {
     "name": "stdout",
     "output_type": "stream",
     "text": [
      "End position: -0.3541724499117151\n"
     ]
    },
    {
     "name": "stdout",
     "output_type": "stream",
     "text": [
      "End position: -0.29286796451502944\n"
     ]
    },
    {
     "name": "stdout",
     "output_type": "stream",
     "text": [
      "End position: -0.3199182903399238\n"
     ]
    },
    {
     "name": "stdout",
     "output_type": "stream",
     "text": [
      "End position: -0.3384642939366912\n"
     ]
    },
    {
     "name": "stdout",
     "output_type": "stream",
     "text": [
      "End position: -0.2934462718421859\n"
     ]
    },
    {
     "name": "stdout",
     "output_type": "stream",
     "text": [
      "End position: -0.2121206100125036\n"
     ]
    },
    {
     "name": "stdout",
     "output_type": "stream",
     "text": [
      "End position: -0.218089015586501\n"
     ]
    },
    {
     "name": "stdout",
     "output_type": "stream",
     "text": [
      "End position: -0.19098545195397498\n"
     ]
    },
    {
     "name": "stdout",
     "output_type": "stream",
     "text": [
      "End position: -0.3599502892224492\n"
     ]
    },
    {
     "name": "stdout",
     "output_type": "stream",
     "text": [
      "End position: -0.32131287855495483\n"
     ]
    },
    {
     "name": "stdout",
     "output_type": "stream",
     "text": [
      "End position: -0.33259764863333774\n"
     ]
    },
    {
     "name": "stdout",
     "output_type": "stream",
     "text": [
      "End position: -0.3369148844195579\n"
     ]
    },
    {
     "name": "stdout",
     "output_type": "stream",
     "text": [
      "End position: -0.31531100256040834\n"
     ]
    },
    {
     "name": "stdout",
     "output_type": "stream",
     "text": [
      "End position: -0.30077352127684004\n"
     ]
    },
    {
     "name": "stdout",
     "output_type": "stream",
     "text": [
      "End position: -0.32794714511412437\n"
     ]
    },
    {
     "name": "stdout",
     "output_type": "stream",
     "text": [
      "End position: -0.19022784468298362\n"
     ]
    },
    {
     "name": "stdout",
     "output_type": "stream",
     "text": [
      "End position: -0.22514682812582926\n"
     ]
    },
    {
     "name": "stdout",
     "output_type": "stream",
     "text": [
      "End position: -0.3633064766098748\n"
     ]
    },
    {
     "name": "stdout",
     "output_type": "stream",
     "text": [
      "End position: -0.25588419723723305\n"
     ]
    },
    {
     "name": "stdout",
     "output_type": "stream",
     "text": [
      "End position: -0.2436687518057887\n"
     ]
    },
    {
     "name": "stdout",
     "output_type": "stream",
     "text": [
      "End position: -0.3067882278886526\n"
     ]
    },
    {
     "name": "stdout",
     "output_type": "stream",
     "text": [
      "End position: -0.28308542270971415\n"
     ]
    },
    {
     "name": "stdout",
     "output_type": "stream",
     "text": [
      "End position: -0.36067087410016935\n"
     ]
    },
    {
     "name": "stdout",
     "output_type": "stream",
     "text": [
      "End position: -0.3432969862944755\n"
     ]
    },
    {
     "name": "stdout",
     "output_type": "stream",
     "text": [
      "End position: -0.340271817928244\n"
     ]
    },
    {
     "name": "stdout",
     "output_type": "stream",
     "text": [
      "End position: -0.3455920542858652\n"
     ]
    },
    {
     "name": "stdout",
     "output_type": "stream",
     "text": [
      "End position: -0.2886054723743809\n"
     ]
    },
    {
     "name": "stdout",
     "output_type": "stream",
     "text": [
      "End position: -0.248936369495566\n"
     ]
    },
    {
     "name": "stdout",
     "output_type": "stream",
     "text": [
      "End position: -0.16310737249081128\n"
     ]
    },
    {
     "name": "stdout",
     "output_type": "stream",
     "text": [
      "End position: -0.23751498476312613\n"
     ]
    },
    {
     "name": "stdout",
     "output_type": "stream",
     "text": [
      "End position: -0.37652102344565175\n"
     ]
    },
    {
     "name": "stdout",
     "output_type": "stream",
     "text": [
      "End position: -0.2389279705284956\n"
     ]
    },
    {
     "name": "stdout",
     "output_type": "stream",
     "text": [
      "End position: -0.35873898256112663\n"
     ]
    },
    {
     "name": "stdout",
     "output_type": "stream",
     "text": [
      "End position: -0.2441661034458199\n"
     ]
    },
    {
     "name": "stdout",
     "output_type": "stream",
     "text": [
      "End position: -0.35808350957643065\n"
     ]
    },
    {
     "name": "stdout",
     "output_type": "stream",
     "text": [
      "End position: -0.2059814714789183\n"
     ]
    },
    {
     "name": "stdout",
     "output_type": "stream",
     "text": [
      "End position: -0.2008927700336123\n"
     ]
    },
    {
     "name": "stdout",
     "output_type": "stream",
     "text": [
      "End position: -0.1822227604719538\n"
     ]
    },
    {
     "name": "stdout",
     "output_type": "stream",
     "text": [
      "End position: -0.3128795114844955\n"
     ]
    },
    {
     "name": "stdout",
     "output_type": "stream",
     "text": [
      "End position: -0.2235280068019271\n"
     ]
    },
    {
     "name": "stdout",
     "output_type": "stream",
     "text": [
      "End position: -0.3212750868672081\n"
     ]
    },
    {
     "name": "stdout",
     "output_type": "stream",
     "text": [
      "End position: -0.30239822051781107\n"
     ]
    },
    {
     "name": "stdout",
     "output_type": "stream",
     "text": [
      "End position: -0.3529041102837605\n"
     ]
    },
    {
     "name": "stdout",
     "output_type": "stream",
     "text": [
      "End position: -0.2450384705723223\n"
     ]
    },
    {
     "name": "stdout",
     "output_type": "stream",
     "text": [
      "End position: -0.18028658104054918\n"
     ]
    },
    {
     "name": "stdout",
     "output_type": "stream",
     "text": [
      "End position: -0.34249615297262437\n"
     ]
    },
    {
     "name": "stdout",
     "output_type": "stream",
     "text": [
      "End position: -0.36174609635942\n"
     ]
    },
    {
     "name": "stdout",
     "output_type": "stream",
     "text": [
      "End position: -0.3575416510669994\n"
     ]
    },
    {
     "name": "stdout",
     "output_type": "stream",
     "text": [
      "End position: -0.23051285172643007\n"
     ]
    },
    {
     "name": "stdout",
     "output_type": "stream",
     "text": [
      "End position: -0.3212084707430708\n"
     ]
    },
    {
     "name": "stdout",
     "output_type": "stream",
     "text": [
      "End position: -0.29490515862651223\n"
     ]
    },
    {
     "name": "stdout",
     "output_type": "stream",
     "text": [
      "End position: -0.3777197347497603\n"
     ]
    },
    {
     "name": "stdout",
     "output_type": "stream",
     "text": [
      "End position: -0.2991935360807111\n"
     ]
    },
    {
     "name": "stdout",
     "output_type": "stream",
     "text": [
      "End position: -0.3707133289607023\n"
     ]
    },
    {
     "name": "stdout",
     "output_type": "stream",
     "text": [
      "End position: -0.2213016701324568\n"
     ]
    },
    {
     "name": "stdout",
     "output_type": "stream",
     "text": [
      "End position: -0.20111282417373633\n"
     ]
    },
    {
     "name": "stdout",
     "output_type": "stream",
     "text": [
      "End position: -0.35550973174344963\n"
     ]
    },
    {
     "name": "stdout",
     "output_type": "stream",
     "text": [
      "End position: -0.25310281463793055\n"
     ]
    },
    {
     "name": "stdout",
     "output_type": "stream",
     "text": [
      "End position: -0.24119242884371123\n"
     ]
    },
    {
     "name": "stdout",
     "output_type": "stream",
     "text": [
      "End position: -0.1717351978866736\n"
     ]
    },
    {
     "name": "stdout",
     "output_type": "stream",
     "text": [
      "End position: -0.2564292874262783\n"
     ]
    },
    {
     "name": "stdout",
     "output_type": "stream",
     "text": [
      "End position: -0.21898530538974587\n"
     ]
    },
    {
     "name": "stdout",
     "output_type": "stream",
     "text": [
      "End position: -0.29572543142040875\n"
     ]
    },
    {
     "name": "stdout",
     "output_type": "stream",
     "text": [
      "End position: -0.33346699282718334\n"
     ]
    },
    {
     "name": "stdout",
     "output_type": "stream",
     "text": [
      "End position: -0.33844258925292686\n"
     ]
    },
    {
     "name": "stdout",
     "output_type": "stream",
     "text": [
      "End position: -0.31598982717918755\n"
     ]
    },
    {
     "name": "stdout",
     "output_type": "stream",
     "text": [
      "End position: -0.26644304647785994\n"
     ]
    },
    {
     "name": "stdout",
     "output_type": "stream",
     "text": [
      "End position: -0.3583860129351729\n"
     ]
    },
    {
     "name": "stdout",
     "output_type": "stream",
     "text": [
      "End position: -0.3077521452448515\n"
     ]
    },
    {
     "name": "stdout",
     "output_type": "stream",
     "text": [
      "End position: -0.3031963556858631\n"
     ]
    },
    {
     "name": "stdout",
     "output_type": "stream",
     "text": [
      "End position: -0.2801668036037937\n"
     ]
    },
    {
     "name": "stdout",
     "output_type": "stream",
     "text": [
      "End position: -0.18572831337310183\n"
     ]
    },
    {
     "name": "stdout",
     "output_type": "stream",
     "text": [
      "End position: -0.28847582065544625\n"
     ]
    },
    {
     "name": "stdout",
     "output_type": "stream",
     "text": [
      "End position: -0.37393135694550794\n"
     ]
    },
    {
     "name": "stdout",
     "output_type": "stream",
     "text": [
      "End position: -0.2768374184459863\n"
     ]
    },
    {
     "name": "stdout",
     "output_type": "stream",
     "text": [
      "End position: -0.33006480759157364\n"
     ]
    },
    {
     "name": "stdout",
     "output_type": "stream",
     "text": [
      "End position: -0.16327342552428953\n"
     ]
    },
    {
     "name": "stdout",
     "output_type": "stream",
     "text": [
      "End position: -0.2582455758730411\n"
     ]
    },
    {
     "name": "stdout",
     "output_type": "stream",
     "text": [
      "End position: -0.36285993782269427\n"
     ]
    },
    {
     "name": "stdout",
     "output_type": "stream",
     "text": [
      "End position: -0.33328871386651937\n"
     ]
    },
    {
     "name": "stdout",
     "output_type": "stream",
     "text": [
      "End position: -0.29035796095264377\n"
     ]
    },
    {
     "name": "stdout",
     "output_type": "stream",
     "text": [
      "End position: -0.35391149385144877\n"
     ]
    },
    {
     "name": "stdout",
     "output_type": "stream",
     "text": [
      "End position: -0.33276272924446465\n"
     ]
    },
    {
     "name": "stdout",
     "output_type": "stream",
     "text": [
      "End position: -0.368951939803078\n"
     ]
    },
    {
     "name": "stdout",
     "output_type": "stream",
     "text": [
      "End position: -0.3485199952440819\n"
     ]
    },
    {
     "name": "stdout",
     "output_type": "stream",
     "text": [
      "End position: -0.2650026152161171\n"
     ]
    },
    {
     "name": "stdout",
     "output_type": "stream",
     "text": [
      "End position: -0.23409384942003886\n"
     ]
    },
    {
     "name": "stdout",
     "output_type": "stream",
     "text": [
      "End position: -0.36435274003681684\n"
     ]
    },
    {
     "name": "stdout",
     "output_type": "stream",
     "text": [
      "End position: -0.3021475216735794\n"
     ]
    },
    {
     "name": "stdout",
     "output_type": "stream",
     "text": [
      "End position: -0.18217208564792703\n"
     ]
    },
    {
     "name": "stdout",
     "output_type": "stream",
     "text": [
      "End position: -0.23757097351041837\n"
     ]
    },
    {
     "name": "stdout",
     "output_type": "stream",
     "text": [
      "End position: -0.2485250133125106\n"
     ]
    },
    {
     "name": "stdout",
     "output_type": "stream",
     "text": [
      "End position: -0.3514761236865906\n"
     ]
    },
    {
     "name": "stdout",
     "output_type": "stream",
     "text": [
      "End position: -0.23283480185227828\n"
     ]
    },
    {
     "name": "stdout",
     "output_type": "stream",
     "text": [
      "End position: -0.3402650751040224\n"
     ]
    },
    {
     "name": "stdout",
     "output_type": "stream",
     "text": [
      "End position: -0.17330863853195286\n"
     ]
    },
    {
     "name": "stdout",
     "output_type": "stream",
     "text": [
      "End position: -0.156675852440503\n"
     ]
    },
    {
     "name": "stdout",
     "output_type": "stream",
     "text": [
      "End position: -0.32786423729184544\n"
     ]
    },
    {
     "name": "stdout",
     "output_type": "stream",
     "text": [
      "End position: -0.3302058819349373\n"
     ]
    },
    {
     "name": "stdout",
     "output_type": "stream",
     "text": [
      "End position: -0.26918110475981305\n"
     ]
    },
    {
     "name": "stdout",
     "output_type": "stream",
     "text": [
      "End position: -0.32059561884602267\n"
     ]
    },
    {
     "name": "stdout",
     "output_type": "stream",
     "text": [
      "End position: -0.2836507824221444\n"
     ]
    },
    {
     "name": "stdout",
     "output_type": "stream",
     "text": [
      "End position: -0.2912783581634541\n"
     ]
    },
    {
     "name": "stdout",
     "output_type": "stream",
     "text": [
      "End position: -0.37638547630175534\n"
     ]
    },
    {
     "name": "stdout",
     "output_type": "stream",
     "text": [
      "End position: -0.3757652518508942\n"
     ]
    },
    {
     "name": "stdout",
     "output_type": "stream",
     "text": [
      "End position: -0.29017446140567754\n"
     ]
    },
    {
     "name": "stdout",
     "output_type": "stream",
     "text": [
      "End position: -0.18781766906176248\n"
     ]
    },
    {
     "name": "stdout",
     "output_type": "stream",
     "text": [
      "End position: -0.343995439938724\n"
     ]
    },
    {
     "name": "stdout",
     "output_type": "stream",
     "text": [
      "End position: -0.32800995797823296\n"
     ]
    },
    {
     "name": "stdout",
     "output_type": "stream",
     "text": [
      "End position: -0.29966303346303663\n"
     ]
    },
    {
     "name": "stdout",
     "output_type": "stream",
     "text": [
      "End position: -0.35740143200202723\n"
     ]
    },
    {
     "name": "stdout",
     "output_type": "stream",
     "text": [
      "End position: -0.28101132703574516\n"
     ]
    },
    {
     "name": "stdout",
     "output_type": "stream",
     "text": [
      "End position: -0.28612293837391967\n"
     ]
    },
    {
     "name": "stdout",
     "output_type": "stream",
     "text": [
      "End position: -0.23030052035166337\n"
     ]
    },
    {
     "name": "stdout",
     "output_type": "stream",
     "text": [
      "End position: -0.33695541517487665\n"
     ]
    },
    {
     "name": "stdout",
     "output_type": "stream",
     "text": [
      "End position: -0.2746150991776575\n"
     ]
    },
    {
     "name": "stdout",
     "output_type": "stream",
     "text": [
      "End position: -0.3511870175552829\n"
     ]
    },
    {
     "name": "stdout",
     "output_type": "stream",
     "text": [
      "End position: -0.19958896410197224\n"
     ]
    },
    {
     "name": "stdout",
     "output_type": "stream",
     "text": [
      "End position: -0.21320176309769776\n"
     ]
    },
    {
     "name": "stdout",
     "output_type": "stream",
     "text": [
      "End position: -0.36510270948293894\n"
     ]
    },
    {
     "name": "stdout",
     "output_type": "stream",
     "text": [
      "End position: -0.21709562374968056\n"
     ]
    },
    {
     "name": "stdout",
     "output_type": "stream",
     "text": [
      "End position: -0.34214536015303115\n"
     ]
    },
    {
     "name": "stdout",
     "output_type": "stream",
     "text": [
      "End position: -0.37061951534735493\n"
     ]
    },
    {
     "name": "stdout",
     "output_type": "stream",
     "text": [
      "End position: -0.2183096468198295\n"
     ]
    },
    {
     "name": "stdout",
     "output_type": "stream",
     "text": [
      "End position: -0.3131904638963162\n"
     ]
    },
    {
     "name": "stdout",
     "output_type": "stream",
     "text": [
      "End position: -0.20944420072737882\n"
     ]
    },
    {
     "name": "stdout",
     "output_type": "stream",
     "text": [
      "End position: -0.2414364234450485\n"
     ]
    },
    {
     "name": "stdout",
     "output_type": "stream",
     "text": [
      "End position: -0.18236452614645296\n"
     ]
    },
    {
     "name": "stdout",
     "output_type": "stream",
     "text": [
      "End position: -0.25884987749354826\n"
     ]
    },
    {
     "name": "stdout",
     "output_type": "stream",
     "text": [
      "End position: -0.35714923537391907\n"
     ]
    },
    {
     "name": "stdout",
     "output_type": "stream",
     "text": [
      "End position: -0.3649065092406276\n"
     ]
    },
    {
     "name": "stdout",
     "output_type": "stream",
     "text": [
      "End position: -0.3487325509536937\n"
     ]
    },
    {
     "name": "stdout",
     "output_type": "stream",
     "text": [
      "End position: -0.37645798930713886\n"
     ]
    },
    {
     "name": "stdout",
     "output_type": "stream",
     "text": [
      "End position: -0.33222187717593743\n"
     ]
    },
    {
     "name": "stdout",
     "output_type": "stream",
     "text": [
      "End position: -0.33952274653812486\n"
     ]
    },
    {
     "name": "stdout",
     "output_type": "stream",
     "text": [
      "End position: -0.3385889679941232\n"
     ]
    },
    {
     "name": "stdout",
     "output_type": "stream",
     "text": [
      "End position: -0.22149188521617758\n"
     ]
    },
    {
     "name": "stdout",
     "output_type": "stream",
     "text": [
      "End position: -0.22838916189685665\n"
     ]
    },
    {
     "name": "stdout",
     "output_type": "stream",
     "text": [
      "End position: -0.30644470207475266\n"
     ]
    },
    {
     "name": "stdout",
     "output_type": "stream",
     "text": [
      "End position: -0.19712214019467905\n"
     ]
    },
    {
     "name": "stdout",
     "output_type": "stream",
     "text": [
      "End position: -0.2196231974475825\n"
     ]
    },
    {
     "name": "stdout",
     "output_type": "stream",
     "text": [
      "End position: -0.2201009758101037\n"
     ]
    },
    {
     "name": "stdout",
     "output_type": "stream",
     "text": [
      "End position: -0.23656395625860666\n"
     ]
    },
    {
     "name": "stdout",
     "output_type": "stream",
     "text": [
      "End position: -0.17785023600467434\n"
     ]
    },
    {
     "name": "stdout",
     "output_type": "stream",
     "text": [
      "End position: -0.26148127547978073\n"
     ]
    },
    {
     "name": "stdout",
     "output_type": "stream",
     "text": [
      "End position: -0.22638047548969745\n"
     ]
    },
    {
     "name": "stdout",
     "output_type": "stream",
     "text": [
      "End position: -0.1799460064185682\n"
     ]
    },
    {
     "name": "stdout",
     "output_type": "stream",
     "text": [
      "End position: -0.3722407336931512\n"
     ]
    },
    {
     "name": "stdout",
     "output_type": "stream",
     "text": [
      "End position: -0.3545066641250444\n"
     ]
    },
    {
     "name": "stdout",
     "output_type": "stream",
     "text": [
      "End position: -0.28295287593871826\n"
     ]
    },
    {
     "name": "stdout",
     "output_type": "stream",
     "text": [
      "End position: -0.28344037592841886\n"
     ]
    },
    {
     "name": "stdout",
     "output_type": "stream",
     "text": [
      "End position: -0.17148804991288866\n"
     ]
    },
    {
     "name": "stdout",
     "output_type": "stream",
     "text": [
      "End position: -0.16870435060274303\n"
     ]
    },
    {
     "name": "stdout",
     "output_type": "stream",
     "text": [
      "End position: -0.2645448280031811\n"
     ]
    },
    {
     "name": "stdout",
     "output_type": "stream",
     "text": [
      "End position: -0.1576454553949084\n"
     ]
    },
    {
     "name": "stdout",
     "output_type": "stream",
     "text": [
      "End position: -0.3681984732603088\n"
     ]
    },
    {
     "name": "stdout",
     "output_type": "stream",
     "text": [
      "End position: -0.16996591569263092\n"
     ]
    },
    {
     "name": "stdout",
     "output_type": "stream",
     "text": [
      "End position: -0.34841965942455466\n"
     ]
    },
    {
     "name": "stdout",
     "output_type": "stream",
     "text": [
      "End position: -0.22476794384157858\n"
     ]
    },
    {
     "name": "stdout",
     "output_type": "stream",
     "text": [
      "End position: -0.3436381071783916\n"
     ]
    },
    {
     "name": "stdout",
     "output_type": "stream",
     "text": [
      "End position: -0.22961245986009302\n"
     ]
    },
    {
     "name": "stdout",
     "output_type": "stream",
     "text": [
      "End position: -0.2372798108639588\n"
     ]
    },
    {
     "name": "stdout",
     "output_type": "stream",
     "text": [
      "End position: -0.24623201958361546\n"
     ]
    },
    {
     "name": "stdout",
     "output_type": "stream",
     "text": [
      "End position: -0.29781650027412854\n"
     ]
    },
    {
     "name": "stdout",
     "output_type": "stream",
     "text": [
      "End position: -0.2008423431396644\n"
     ]
    },
    {
     "name": "stdout",
     "output_type": "stream",
     "text": [
      "End position: -0.30907135734833313\n"
     ]
    },
    {
     "name": "stdout",
     "output_type": "stream",
     "text": [
      "End position: -0.21387545845937384\n"
     ]
    },
    {
     "name": "stdout",
     "output_type": "stream",
     "text": [
      "End position: -0.3677760687261994\n"
     ]
    },
    {
     "name": "stdout",
     "output_type": "stream",
     "text": [
      "End position: -0.20230210106657853\n"
     ]
    },
    {
     "name": "stdout",
     "output_type": "stream",
     "text": [
      "End position: -0.3320307906795842\n"
     ]
    },
    {
     "name": "stdout",
     "output_type": "stream",
     "text": [
      "End position: -0.2304884791875375\n"
     ]
    },
    {
     "name": "stdout",
     "output_type": "stream",
     "text": [
      "End position: -0.3758202578891923\n"
     ]
    },
    {
     "name": "stdout",
     "output_type": "stream",
     "text": [
      "End position: -0.36116739097837863\n"
     ]
    },
    {
     "name": "stdout",
     "output_type": "stream",
     "text": [
      "End position: -0.19702158160767505\n"
     ]
    },
    {
     "name": "stdout",
     "output_type": "stream",
     "text": [
      "End position: -0.2636201948433133\n"
     ]
    },
    {
     "name": "stdout",
     "output_type": "stream",
     "text": [
      "End position: -0.22002130507941073\n"
     ]
    },
    {
     "name": "stdout",
     "output_type": "stream",
     "text": [
      "End position: -0.3310868741247183\n"
     ]
    },
    {
     "name": "stdout",
     "output_type": "stream",
     "text": [
      "End position: -0.17358060809516554\n"
     ]
    },
    {
     "name": "stdout",
     "output_type": "stream",
     "text": [
      "End position: -0.3461078639636962\n"
     ]
    },
    {
     "name": "stdout",
     "output_type": "stream",
     "text": [
      "End position: -0.19510310247732873\n"
     ]
    },
    {
     "name": "stdout",
     "output_type": "stream",
     "text": [
      "End position: -0.24076899207399405\n"
     ]
    },
    {
     "name": "stdout",
     "output_type": "stream",
     "text": [
      "End position: -0.37236707219390675\n"
     ]
    },
    {
     "name": "stdout",
     "output_type": "stream",
     "text": [
      "End position: -0.3477674814867955\n"
     ]
    },
    {
     "name": "stdout",
     "output_type": "stream",
     "text": [
      "End position: -0.28859370911825877\n"
     ]
    },
    {
     "name": "stdout",
     "output_type": "stream",
     "text": [
      "End position: -0.3060413921717179\n"
     ]
    },
    {
     "name": "stdout",
     "output_type": "stream",
     "text": [
      "End position: -0.3641412062405178\n"
     ]
    },
    {
     "name": "stdout",
     "output_type": "stream",
     "text": [
      "End position: -0.21293398345834083\n"
     ]
    },
    {
     "name": "stdout",
     "output_type": "stream",
     "text": [
      "End position: -0.32953430836672654\n"
     ]
    },
    {
     "name": "stdout",
     "output_type": "stream",
     "text": [
      "End position: -0.291464936844802\n"
     ]
    },
    {
     "name": "stdout",
     "output_type": "stream",
     "text": [
      "End position: -0.16254494038839779\n"
     ]
    },
    {
     "name": "stdout",
     "output_type": "stream",
     "text": [
      "End position: -0.3138912562195469\n"
     ]
    },
    {
     "name": "stdout",
     "output_type": "stream",
     "text": [
      "End position: -0.20684637940934122\n"
     ]
    },
    {
     "name": "stdout",
     "output_type": "stream",
     "text": [
      "End position: -0.1854919626067554\n"
     ]
    },
    {
     "name": "stdout",
     "output_type": "stream",
     "text": [
      "End position: -0.37133560432330925\n"
     ]
    },
    {
     "name": "stdout",
     "output_type": "stream",
     "text": [
      "End position: -0.33848519120828235\n"
     ]
    },
    {
     "name": "stdout",
     "output_type": "stream",
     "text": [
      "End position: -0.2925751037113731\n"
     ]
    },
    {
     "name": "stdout",
     "output_type": "stream",
     "text": [
      "End position: -0.2157710292580551\n"
     ]
    },
    {
     "name": "stdout",
     "output_type": "stream",
     "text": [
      "End position: -0.2907698514224977\n"
     ]
    },
    {
     "name": "stdout",
     "output_type": "stream",
     "text": [
      "End position: -0.28336494292288456\n"
     ]
    },
    {
     "name": "stdout",
     "output_type": "stream",
     "text": [
      "End position: -0.33485481575326936\n"
     ]
    },
    {
     "name": "stdout",
     "output_type": "stream",
     "text": [
      "End position: -0.21953897358810448\n"
     ]
    },
    {
     "name": "stdout",
     "output_type": "stream",
     "text": [
      "End position: -0.20552222948435372\n"
     ]
    },
    {
     "name": "stdout",
     "output_type": "stream",
     "text": [
      "End position: -0.15905757661604186\n"
     ]
    },
    {
     "name": "stdout",
     "output_type": "stream",
     "text": [
      "End position: -0.3052791227777114\n"
     ]
    },
    {
     "name": "stdout",
     "output_type": "stream",
     "text": [
      "End position: -0.19037539505393128\n"
     ]
    },
    {
     "name": "stdout",
     "output_type": "stream",
     "text": [
      "End position: -0.37707825692363034\n"
     ]
    },
    {
     "name": "stdout",
     "output_type": "stream",
     "text": [
      "End position: -0.2306471018958057\n"
     ]
    },
    {
     "name": "stdout",
     "output_type": "stream",
     "text": [
      "End position: -0.37680033121322687\n"
     ]
    },
    {
     "name": "stdout",
     "output_type": "stream",
     "text": [
      "End position: -0.20902219689822246\n"
     ]
    },
    {
     "name": "stdout",
     "output_type": "stream",
     "text": [
      "End position: -0.23761719663420663\n"
     ]
    },
    {
     "name": "stdout",
     "output_type": "stream",
     "text": [
      "End position: -0.3612585391405913\n"
     ]
    },
    {
     "name": "stdout",
     "output_type": "stream",
     "text": [
      "End position: -0.3354152127411695\n"
     ]
    },
    {
     "name": "stdout",
     "output_type": "stream",
     "text": [
      "End position: -0.33677942273963785\n"
     ]
    },
    {
     "name": "stdout",
     "output_type": "stream",
     "text": [
      "End position: -0.3752657839178888\n"
     ]
    },
    {
     "name": "stdout",
     "output_type": "stream",
     "text": [
      "End position: -0.17013232996903233\n"
     ]
    },
    {
     "name": "stdout",
     "output_type": "stream",
     "text": [
      "End position: -0.30139017347449054\n"
     ]
    },
    {
     "name": "stdout",
     "output_type": "stream",
     "text": [
      "End position: -0.3478340541201833\n"
     ]
    },
    {
     "name": "stdout",
     "output_type": "stream",
     "text": [
      "End position: -0.29017310839857763\n"
     ]
    },
    {
     "name": "stdout",
     "output_type": "stream",
     "text": [
      "End position: -0.27631702053173773\n"
     ]
    },
    {
     "name": "stdout",
     "output_type": "stream",
     "text": [
      "End position: -0.28080080897367077\n"
     ]
    },
    {
     "name": "stdout",
     "output_type": "stream",
     "text": [
      "End position: -0.3076912894801964\n"
     ]
    },
    {
     "name": "stdout",
     "output_type": "stream",
     "text": [
      "End position: -0.2671931746273449\n"
     ]
    },
    {
     "name": "stdout",
     "output_type": "stream",
     "text": [
      "End position: -0.34159300046900637\n"
     ]
    },
    {
     "name": "stdout",
     "output_type": "stream",
     "text": [
      "End position: -0.26965327551949914\n"
     ]
    },
    {
     "name": "stdout",
     "output_type": "stream",
     "text": [
      "End position: -0.3062867452600607\n"
     ]
    },
    {
     "name": "stdout",
     "output_type": "stream",
     "text": [
      "End position: -0.2834371987341252\n"
     ]
    },
    {
     "name": "stdout",
     "output_type": "stream",
     "text": [
      "End position: -0.22285393637231932\n"
     ]
    },
    {
     "name": "stdout",
     "output_type": "stream",
     "text": [
      "End position: -0.24576103015718204\n"
     ]
    },
    {
     "name": "stdout",
     "output_type": "stream",
     "text": [
      "End position: -0.30317519148992395\n"
     ]
    },
    {
     "name": "stdout",
     "output_type": "stream",
     "text": [
      "End position: -0.26379970691457594\n"
     ]
    },
    {
     "name": "stdout",
     "output_type": "stream",
     "text": [
      "End position: -0.3372322627246173\n"
     ]
    },
    {
     "name": "stdout",
     "output_type": "stream",
     "text": [
      "End position: -0.34425300624317434\n"
     ]
    },
    {
     "name": "stdout",
     "output_type": "stream",
     "text": [
      "End position: -0.2072877725793138\n"
     ]
    },
    {
     "name": "stdout",
     "output_type": "stream",
     "text": [
      "End position: -0.3497811627947232\n"
     ]
    },
    {
     "name": "stdout",
     "output_type": "stream",
     "text": [
      "End position: -0.18924303811514112\n"
     ]
    },
    {
     "name": "stdout",
     "output_type": "stream",
     "text": [
      "End position: -0.3343443498956911\n"
     ]
    },
    {
     "name": "stdout",
     "output_type": "stream",
     "text": [
      "End position: -0.18521405541993471\n"
     ]
    },
    {
     "name": "stdout",
     "output_type": "stream",
     "text": [
      "End position: -0.1748927311868717\n"
     ]
    },
    {
     "name": "stdout",
     "output_type": "stream",
     "text": [
      "End position: -0.17472146823587661\n"
     ]
    },
    {
     "name": "stdout",
     "output_type": "stream",
     "text": [
      "End position: -0.31680165302036867\n"
     ]
    },
    {
     "name": "stdout",
     "output_type": "stream",
     "text": [
      "End position: -0.3753233156312061\n"
     ]
    },
    {
     "name": "stdout",
     "output_type": "stream",
     "text": [
      "End position: -0.19514027200203898\n"
     ]
    },
    {
     "name": "stdout",
     "output_type": "stream",
     "text": [
      "End position: -0.3722283453121597\n"
     ]
    },
    {
     "name": "stdout",
     "output_type": "stream",
     "text": [
      "End position: -0.2514058478939227\n"
     ]
    },
    {
     "name": "stdout",
     "output_type": "stream",
     "text": [
      "End position: -0.2469661095223687\n"
     ]
    },
    {
     "name": "stdout",
     "output_type": "stream",
     "text": [
      "End position: -0.34388406590250886\n"
     ]
    },
    {
     "name": "stdout",
     "output_type": "stream",
     "text": [
      "End position: -0.31751149988585325\n"
     ]
    },
    {
     "name": "stdout",
     "output_type": "stream",
     "text": [
      "End position: -0.36220835649432437\n"
     ]
    },
    {
     "name": "stdout",
     "output_type": "stream",
     "text": [
      "End position: -0.35024694885192187\n"
     ]
    },
    {
     "name": "stdout",
     "output_type": "stream",
     "text": [
      "End position: -0.23352054665864377\n"
     ]
    },
    {
     "name": "stdout",
     "output_type": "stream",
     "text": [
      "End position: -0.3600362811535641\n"
     ]
    },
    {
     "name": "stdout",
     "output_type": "stream",
     "text": [
      "End position: -0.20202444068821485\n"
     ]
    },
    {
     "name": "stdout",
     "output_type": "stream",
     "text": [
      "End position: -0.3619377680027655\n"
     ]
    },
    {
     "name": "stdout",
     "output_type": "stream",
     "text": [
      "End position: -0.2903673279585766\n"
     ]
    },
    {
     "name": "stdout",
     "output_type": "stream",
     "text": [
      "End position: -0.3328479287492322\n"
     ]
    },
    {
     "name": "stdout",
     "output_type": "stream",
     "text": [
      "End position: -0.3674328019009572\n"
     ]
    },
    {
     "name": "stdout",
     "output_type": "stream",
     "text": [
      "End position: -0.35791637417442856\n"
     ]
    },
    {
     "name": "stdout",
     "output_type": "stream",
     "text": [
      "End position: -0.3320086639908377\n"
     ]
    },
    {
     "name": "stdout",
     "output_type": "stream",
     "text": [
      "End position: -0.2725234230061745\n"
     ]
    },
    {
     "name": "stdout",
     "output_type": "stream",
     "text": [
      "End position: -0.2983287622193702\n"
     ]
    },
    {
     "name": "stdout",
     "output_type": "stream",
     "text": [
      "End position: -0.3777205196591255\n"
     ]
    },
    {
     "name": "stdout",
     "output_type": "stream",
     "text": [
      "End position: -0.24949674559096782\n"
     ]
    },
    {
     "name": "stdout",
     "output_type": "stream",
     "text": [
      "End position: -0.19637088073257042\n"
     ]
    },
    {
     "name": "stdout",
     "output_type": "stream",
     "text": [
      "End position: -0.29043283428004846\n"
     ]
    },
    {
     "name": "stdout",
     "output_type": "stream",
     "text": [
      "End position: -0.308490796006219\n"
     ]
    },
    {
     "name": "stdout",
     "output_type": "stream",
     "text": [
      "End position: -0.36679683894146614\n"
     ]
    },
    {
     "name": "stdout",
     "output_type": "stream",
     "text": [
      "End position: -0.24919124412915658\n"
     ]
    },
    {
     "name": "stdout",
     "output_type": "stream",
     "text": [
      "End position: -0.3566305602535695\n"
     ]
    },
    {
     "name": "stdout",
     "output_type": "stream",
     "text": [
      "End position: -0.30541814012527496\n"
     ]
    },
    {
     "name": "stdout",
     "output_type": "stream",
     "text": [
      "End position: -0.33337257738114756\n"
     ]
    },
    {
     "name": "stdout",
     "output_type": "stream",
     "text": [
      "End position: -0.3232668482908091\n"
     ]
    },
    {
     "name": "stdout",
     "output_type": "stream",
     "text": [
      "End position: -0.2926082996968281\n"
     ]
    },
    {
     "name": "stdout",
     "output_type": "stream",
     "text": [
      "End position: -0.3453969559305803\n"
     ]
    },
    {
     "name": "stdout",
     "output_type": "stream",
     "text": [
      "End position: -0.19709869589203446\n"
     ]
    },
    {
     "name": "stdout",
     "output_type": "stream",
     "text": [
      "End position: -0.17537689266999082\n"
     ]
    },
    {
     "name": "stdout",
     "output_type": "stream",
     "text": [
      "End position: -0.3521733087676741\n"
     ]
    },
    {
     "name": "stdout",
     "output_type": "stream",
     "text": [
      "End position: -0.32256469263491416\n"
     ]
    },
    {
     "name": "stdout",
     "output_type": "stream",
     "text": [
      "End position: -0.22353804051453055\n"
     ]
    },
    {
     "name": "stdout",
     "output_type": "stream",
     "text": [
      "End position: -0.28529565530412615\n"
     ]
    },
    {
     "name": "stdout",
     "output_type": "stream",
     "text": [
      "End position: -0.282349874166171\n"
     ]
    },
    {
     "name": "stdout",
     "output_type": "stream",
     "text": [
      "End position: -0.37554860603907225\n"
     ]
    },
    {
     "name": "stdout",
     "output_type": "stream",
     "text": [
      "End position: -0.19440570848267905\n"
     ]
    },
    {
     "name": "stdout",
     "output_type": "stream",
     "text": [
      "End position: -0.2818713038782047\n"
     ]
    },
    {
     "name": "stdout",
     "output_type": "stream",
     "text": [
      "End position: -0.3243476345533135\n"
     ]
    },
    {
     "name": "stdout",
     "output_type": "stream",
     "text": [
      "End position: -0.3011381467769621\n"
     ]
    },
    {
     "name": "stdout",
     "output_type": "stream",
     "text": [
      "End position: -0.3281409622644494\n"
     ]
    },
    {
     "name": "stdout",
     "output_type": "stream",
     "text": [
      "End position: -0.1576903417068081\n"
     ]
    },
    {
     "name": "stdout",
     "output_type": "stream",
     "text": [
      "End position: -0.1634808598495681\n"
     ]
    },
    {
     "name": "stdout",
     "output_type": "stream",
     "text": [
      "End position: -0.24869799670680506\n"
     ]
    },
    {
     "name": "stdout",
     "output_type": "stream",
     "text": [
      "End position: -0.3777416572599766\n"
     ]
    },
    {
     "name": "stdout",
     "output_type": "stream",
     "text": [
      "End position: -0.23684587607758417\n"
     ]
    },
    {
     "name": "stdout",
     "output_type": "stream",
     "text": [
      "End position: -0.1988614745337997\n"
     ]
    },
    {
     "name": "stdout",
     "output_type": "stream",
     "text": [
      "End position: -0.28541755879964426\n"
     ]
    },
    {
     "name": "stdout",
     "output_type": "stream",
     "text": [
      "End position: -0.3717872143513919\n"
     ]
    },
    {
     "name": "stdout",
     "output_type": "stream",
     "text": [
      "End position: -0.17526041711069115\n"
     ]
    },
    {
     "name": "stdout",
     "output_type": "stream",
     "text": [
      "End position: -0.3583339204653158\n"
     ]
    },
    {
     "name": "stdout",
     "output_type": "stream",
     "text": [
      "End position: -0.23889477462799436\n"
     ]
    },
    {
     "name": "stdout",
     "output_type": "stream",
     "text": [
      "End position: -0.17157701161538355\n"
     ]
    },
    {
     "name": "stdout",
     "output_type": "stream",
     "text": [
      "End position: -0.3632088345476891\n"
     ]
    },
    {
     "name": "stdout",
     "output_type": "stream",
     "text": [
      "End position: -0.2802577136219469\n"
     ]
    },
    {
     "name": "stdout",
     "output_type": "stream",
     "text": [
      "End position: -0.24839372496371376\n"
     ]
    },
    {
     "name": "stdout",
     "output_type": "stream",
     "text": [
      "End position: -0.1579549216189912\n"
     ]
    },
    {
     "name": "stdout",
     "output_type": "stream",
     "text": [
      "End position: -0.34097543915810025\n"
     ]
    },
    {
     "name": "stdout",
     "output_type": "stream",
     "text": [
      "End position: -0.268880873975743\n"
     ]
    },
    {
     "name": "stdout",
     "output_type": "stream",
     "text": [
      "End position: -0.2595824247703192\n"
     ]
    },
    {
     "name": "stdout",
     "output_type": "stream",
     "text": [
      "End position: -0.3473034999630048\n"
     ]
    },
    {
     "name": "stdout",
     "output_type": "stream",
     "text": [
      "End position: -0.30238627936742796\n"
     ]
    },
    {
     "name": "stdout",
     "output_type": "stream",
     "text": [
      "End position: -0.15770902443017945\n"
     ]
    },
    {
     "name": "stdout",
     "output_type": "stream",
     "text": [
      "End position: -0.1676360060942364\n"
     ]
    },
    {
     "name": "stdout",
     "output_type": "stream",
     "text": [
      "End position: -0.19595499997942117\n"
     ]
    },
    {
     "name": "stdout",
     "output_type": "stream",
     "text": [
      "End position: -0.35967713473381624\n"
     ]
    },
    {
     "name": "stdout",
     "output_type": "stream",
     "text": [
      "End position: -0.34058907272429645\n"
     ]
    },
    {
     "name": "stdout",
     "output_type": "stream",
     "text": [
      "End position: -0.3345491223099045\n"
     ]
    },
    {
     "name": "stdout",
     "output_type": "stream",
     "text": [
      "End position: -0.2116832300356123\n"
     ]
    },
    {
     "name": "stdout",
     "output_type": "stream",
     "text": [
      "End position: -0.26169419310330305\n"
     ]
    },
    {
     "name": "stdout",
     "output_type": "stream",
     "text": [
      "End position: -0.24804534099120143\n"
     ]
    },
    {
     "name": "stdout",
     "output_type": "stream",
     "text": [
      "End position: -0.19048206198480813\n"
     ]
    },
    {
     "name": "stdout",
     "output_type": "stream",
     "text": [
      "End position: -0.3318619088512261\n"
     ]
    },
    {
     "name": "stdout",
     "output_type": "stream",
     "text": [
      "End position: -0.17739224392076033\n"
     ]
    },
    {
     "name": "stdout",
     "output_type": "stream",
     "text": [
      "End position: -0.3320221460754644\n"
     ]
    },
    {
     "name": "stdout",
     "output_type": "stream",
     "text": [
      "End position: -0.2350250128440899\n"
     ]
    },
    {
     "name": "stdout",
     "output_type": "stream",
     "text": [
      "End position: -0.29970325972394596\n"
     ]
    },
    {
     "name": "stdout",
     "output_type": "stream",
     "text": [
      "End position: -0.19659336397815333\n"
     ]
    },
    {
     "name": "stdout",
     "output_type": "stream",
     "text": [
      "End position: -0.2732394175554477\n"
     ]
    },
    {
     "name": "stdout",
     "output_type": "stream",
     "text": [
      "End position: -0.18048347074933827\n"
     ]
    },
    {
     "name": "stdout",
     "output_type": "stream",
     "text": [
      "End position: -0.18586530870127937\n"
     ]
    },
    {
     "name": "stdout",
     "output_type": "stream",
     "text": [
      "End position: -0.16259974053525914\n"
     ]
    },
    {
     "name": "stdout",
     "output_type": "stream",
     "text": [
      "End position: -0.22106197526511512\n"
     ]
    },
    {
     "name": "stdout",
     "output_type": "stream",
     "text": [
      "End position: -0.3746356466245687\n"
     ]
    },
    {
     "name": "stdout",
     "output_type": "stream",
     "text": [
      "End position: -0.24293025369528998\n"
     ]
    },
    {
     "name": "stdout",
     "output_type": "stream",
     "text": [
      "End position: -0.2470821973343849\n"
     ]
    },
    {
     "name": "stdout",
     "output_type": "stream",
     "text": [
      "End position: -0.3245645642254333\n"
     ]
    },
    {
     "name": "stdout",
     "output_type": "stream",
     "text": [
      "End position: -0.2783032517041151\n"
     ]
    },
    {
     "name": "stdout",
     "output_type": "stream",
     "text": [
      "End position: -0.35285244306874997\n"
     ]
    },
    {
     "name": "stdout",
     "output_type": "stream",
     "text": [
      "End position: -0.36725793403976376\n"
     ]
    },
    {
     "name": "stdout",
     "output_type": "stream",
     "text": [
      "End position: -0.19224399114998134\n"
     ]
    },
    {
     "name": "stdout",
     "output_type": "stream",
     "text": [
      "End position: -0.33625290556809917\n"
     ]
    },
    {
     "name": "stdout",
     "output_type": "stream",
     "text": [
      "End position: -0.18598285451193905\n"
     ]
    },
    {
     "name": "stdout",
     "output_type": "stream",
     "text": [
      "End position: -0.3486766595849691\n"
     ]
    },
    {
     "name": "stdout",
     "output_type": "stream",
     "text": [
      "End position: -0.2674583831256825\n"
     ]
    },
    {
     "name": "stdout",
     "output_type": "stream",
     "text": [
      "End position: -0.2646779091307245\n"
     ]
    },
    {
     "name": "stdout",
     "output_type": "stream",
     "text": [
      "End position: -0.22302394545173376\n"
     ]
    },
    {
     "name": "stdout",
     "output_type": "stream",
     "text": [
      "End position: -0.3390360283989332\n"
     ]
    },
    {
     "name": "stdout",
     "output_type": "stream",
     "text": [
      "End position: -0.3514447649893301\n"
     ]
    },
    {
     "name": "stdout",
     "output_type": "stream",
     "text": [
      "End position: -0.3510398235894834\n"
     ]
    },
    {
     "name": "stdout",
     "output_type": "stream",
     "text": [
      "End position: -0.2327562120303325\n"
     ]
    },
    {
     "name": "stdout",
     "output_type": "stream",
     "text": [
      "End position: -0.3676659155450483\n"
     ]
    },
    {
     "name": "stdout",
     "output_type": "stream",
     "text": [
      "End position: -0.2854690613169606\n"
     ]
    },
    {
     "name": "stdout",
     "output_type": "stream",
     "text": [
      "End position: -0.33983987668662763\n"
     ]
    },
    {
     "name": "stdout",
     "output_type": "stream",
     "text": [
      "End position: -0.3022621911815955\n"
     ]
    },
    {
     "name": "stdout",
     "output_type": "stream",
     "text": [
      "End position: -0.36810264315792296\n"
     ]
    },
    {
     "name": "stdout",
     "output_type": "stream",
     "text": [
      "End position: -0.2853855485209904\n"
     ]
    },
    {
     "name": "stdout",
     "output_type": "stream",
     "text": [
      "End position: -0.3022661604388613\n"
     ]
    },
    {
     "name": "stdout",
     "output_type": "stream",
     "text": [
      "End position: -0.21484226432232642\n"
     ]
    },
    {
     "name": "stdout",
     "output_type": "stream",
     "text": [
      "End position: -0.22311633474151069\n"
     ]
    },
    {
     "name": "stdout",
     "output_type": "stream",
     "text": [
      "End position: -0.28240481342813045\n"
     ]
    },
    {
     "name": "stdout",
     "output_type": "stream",
     "text": [
      "End position: -0.1784388326716732\n"
     ]
    },
    {
     "name": "stdout",
     "output_type": "stream",
     "text": [
      "End position: -0.33588790121852424\n"
     ]
    },
    {
     "name": "stdout",
     "output_type": "stream",
     "text": [
      "End position: -0.32892274962721607\n"
     ]
    },
    {
     "name": "stdout",
     "output_type": "stream",
     "text": [
      "End position: -0.3111270379246691\n"
     ]
    },
    {
     "name": "stdout",
     "output_type": "stream",
     "text": [
      "End position: -0.21735871658763334\n"
     ]
    },
    {
     "name": "stdout",
     "output_type": "stream",
     "text": [
      "End position: -0.30366507695820166\n"
     ]
    },
    {
     "name": "stdout",
     "output_type": "stream",
     "text": [
      "End position: -0.30285689439327057\n"
     ]
    },
    {
     "name": "stdout",
     "output_type": "stream",
     "text": [
      "End position: -0.2922793899550807\n"
     ]
    },
    {
     "name": "stdout",
     "output_type": "stream",
     "text": [
      "End position: -0.3491066154731439\n"
     ]
    },
    {
     "name": "stdout",
     "output_type": "stream",
     "text": [
      "End position: -0.2821159820907886\n"
     ]
    },
    {
     "name": "stdout",
     "output_type": "stream",
     "text": [
      "End position: -0.23421927040280063\n"
     ]
    },
    {
     "name": "stdout",
     "output_type": "stream",
     "text": [
      "End position: -0.3410043438118184\n"
     ]
    },
    {
     "name": "stdout",
     "output_type": "stream",
     "text": [
      "End position: -0.3302019178627449\n"
     ]
    },
    {
     "name": "stdout",
     "output_type": "stream",
     "text": [
      "End position: -0.36918714167877636\n"
     ]
    },
    {
     "name": "stdout",
     "output_type": "stream",
     "text": [
      "End position: -0.3632002362775951\n"
     ]
    },
    {
     "name": "stdout",
     "output_type": "stream",
     "text": [
      "End position: -0.3127032079828687\n"
     ]
    },
    {
     "name": "stdout",
     "output_type": "stream",
     "text": [
      "End position: -0.19645112040673918\n"
     ]
    },
    {
     "name": "stdout",
     "output_type": "stream",
     "text": [
      "End position: -0.2502577251436762\n"
     ]
    },
    {
     "name": "stdout",
     "output_type": "stream",
     "text": [
      "End position: -0.1906869929004129\n"
     ]
    },
    {
     "name": "stdout",
     "output_type": "stream",
     "text": [
      "End position: -0.32644383867658394\n"
     ]
    },
    {
     "name": "stdout",
     "output_type": "stream",
     "text": [
      "End position: -0.3434887118194486\n"
     ]
    },
    {
     "name": "stdout",
     "output_type": "stream",
     "text": [
      "End position: -0.3349908977369509\n"
     ]
    },
    {
     "name": "stdout",
     "output_type": "stream",
     "text": [
      "End position: -0.30656800166821657\n"
     ]
    },
    {
     "name": "stdout",
     "output_type": "stream",
     "text": [
      "End position: -0.3042489049183793\n"
     ]
    },
    {
     "name": "stdout",
     "output_type": "stream",
     "text": [
      "End position: -0.29395296040415564\n"
     ]
    },
    {
     "name": "stdout",
     "output_type": "stream",
     "text": [
      "End position: -0.3625932834751454\n"
     ]
    },
    {
     "name": "stdout",
     "output_type": "stream",
     "text": [
      "End position: -0.2729703160159794\n"
     ]
    },
    {
     "name": "stdout",
     "output_type": "stream",
     "text": [
      "End position: -0.3131242931399003\n"
     ]
    },
    {
     "name": "stdout",
     "output_type": "stream",
     "text": [
      "End position: -0.3632556550098811\n"
     ]
    },
    {
     "name": "stdout",
     "output_type": "stream",
     "text": [
      "End position: -0.20795838821814439\n"
     ]
    },
    {
     "name": "stdout",
     "output_type": "stream",
     "text": [
      "End position: -0.1847635474339054\n"
     ]
    },
    {
     "name": "stdout",
     "output_type": "stream",
     "text": [
      "End position: -0.2275902559772372\n"
     ]
    },
    {
     "name": "stdout",
     "output_type": "stream",
     "text": [
      "End position: -0.30602694598184793\n"
     ]
    },
    {
     "name": "stdout",
     "output_type": "stream",
     "text": [
      "End position: -0.1929186667610429\n"
     ]
    },
    {
     "name": "stdout",
     "output_type": "stream",
     "text": [
      "End position: -0.32094567588289385\n"
     ]
    },
    {
     "name": "stdout",
     "output_type": "stream",
     "text": [
      "End position: -0.19758778214595654\n"
     ]
    },
    {
     "name": "stdout",
     "output_type": "stream",
     "text": [
      "End position: -0.31596682527394726\n"
     ]
    },
    {
     "name": "stdout",
     "output_type": "stream",
     "text": [
      "End position: -0.3230602661468223\n"
     ]
    },
    {
     "name": "stdout",
     "output_type": "stream",
     "text": [
      "End position: -0.276558034104416\n"
     ]
    },
    {
     "name": "stdout",
     "output_type": "stream",
     "text": [
      "End position: -0.23476917375291104\n"
     ]
    },
    {
     "name": "stdout",
     "output_type": "stream",
     "text": [
      "End position: -0.3741729168158643\n"
     ]
    },
    {
     "name": "stdout",
     "output_type": "stream",
     "text": [
      "End position: -0.36945042722367294\n"
     ]
    },
    {
     "name": "stdout",
     "output_type": "stream",
     "text": [
      "End position: -0.3580615005752587\n"
     ]
    },
    {
     "name": "stdout",
     "output_type": "stream",
     "text": [
      "End position: -0.37576942109551165\n"
     ]
    },
    {
     "name": "stdout",
     "output_type": "stream",
     "text": [
      "End position: -0.33555136829087157\n"
     ]
    },
    {
     "name": "stdout",
     "output_type": "stream",
     "text": [
      "End position: -0.31525101115570475\n"
     ]
    },
    {
     "name": "stdout",
     "output_type": "stream",
     "text": [
      "End position: -0.3667077758037301\n"
     ]
    },
    {
     "name": "stdout",
     "output_type": "stream",
     "text": [
      "End position: -0.3387455311887248\n"
     ]
    },
    {
     "name": "stdout",
     "output_type": "stream",
     "text": [
      "End position: -0.22640843622196719\n"
     ]
    },
    {
     "name": "stdout",
     "output_type": "stream",
     "text": [
      "End position: -0.23307853196406275\n"
     ]
    },
    {
     "name": "stdout",
     "output_type": "stream",
     "text": [
      "End position: -0.1912986937716999\n"
     ]
    },
    {
     "name": "stdout",
     "output_type": "stream",
     "text": [
      "End position: -0.22834913633162068\n"
     ]
    },
    {
     "name": "stdout",
     "output_type": "stream",
     "text": [
      "End position: -0.31769762735067275\n"
     ]
    },
    {
     "name": "stdout",
     "output_type": "stream",
     "text": [
      "End position: -0.3477391413198445\n"
     ]
    },
    {
     "name": "stdout",
     "output_type": "stream",
     "text": [
      "End position: -0.31370097058995855\n"
     ]
    },
    {
     "name": "stdout",
     "output_type": "stream",
     "text": [
      "End position: -0.2836743970742876\n"
     ]
    },
    {
     "name": "stdout",
     "output_type": "stream",
     "text": [
      "End position: -0.31216026199269353\n"
     ]
    },
    {
     "name": "stdout",
     "output_type": "stream",
     "text": [
      "End position: -0.23392964122737964\n"
     ]
    },
    {
     "name": "stdout",
     "output_type": "stream",
     "text": [
      "End position: -0.36862719037125674\n"
     ]
    },
    {
     "name": "stdout",
     "output_type": "stream",
     "text": [
      "End position: -0.27615095099862164\n"
     ]
    },
    {
     "name": "stdout",
     "output_type": "stream",
     "text": [
      "End position: -0.36687622096894706\n"
     ]
    },
    {
     "name": "stdout",
     "output_type": "stream",
     "text": [
      "End position: -0.37118579355625364\n"
     ]
    },
    {
     "name": "stdout",
     "output_type": "stream",
     "text": [
      "End position: -0.20594301166486506\n"
     ]
    },
    {
     "name": "stdout",
     "output_type": "stream",
     "text": [
      "End position: -0.27069221034867036\n"
     ]
    },
    {
     "name": "stdout",
     "output_type": "stream",
     "text": [
      "End position: -0.3488808433024653\n"
     ]
    },
    {
     "name": "stdout",
     "output_type": "stream",
     "text": [
      "End position: -0.29760745177758324\n"
     ]
    },
    {
     "name": "stdout",
     "output_type": "stream",
     "text": [
      "End position: -0.3239897877580361\n"
     ]
    },
    {
     "name": "stdout",
     "output_type": "stream",
     "text": [
      "End position: -0.24331988169473406\n"
     ]
    },
    {
     "name": "stdout",
     "output_type": "stream",
     "text": [
      "End position: -0.36680947732696273\n"
     ]
    },
    {
     "name": "stdout",
     "output_type": "stream",
     "text": [
      "End position: -0.2698844242654393\n"
     ]
    },
    {
     "name": "stdout",
     "output_type": "stream",
     "text": [
      "End position: -0.3705681346027204\n"
     ]
    },
    {
     "name": "stdout",
     "output_type": "stream",
     "text": [
      "End position: -0.1678311993884819\n"
     ]
    },
    {
     "name": "stdout",
     "output_type": "stream",
     "text": [
      "End position: -0.1629298864320067\n"
     ]
    },
    {
     "name": "stdout",
     "output_type": "stream",
     "text": [
      "End position: -0.2281414388197923\n"
     ]
    },
    {
     "name": "stdout",
     "output_type": "stream",
     "text": [
      "End position: -0.34843217094537754\n"
     ]
    },
    {
     "name": "stdout",
     "output_type": "stream",
     "text": [
      "End position: -0.1935663711019256\n"
     ]
    },
    {
     "name": "stdout",
     "output_type": "stream",
     "text": [
      "End position: -0.35271344103419244\n"
     ]
    },
    {
     "name": "stdout",
     "output_type": "stream",
     "text": [
      "End position: -0.19872564403873322\n"
     ]
    },
    {
     "name": "stdout",
     "output_type": "stream",
     "text": [
      "End position: -0.18081237567500863\n"
     ]
    },
    {
     "name": "stdout",
     "output_type": "stream",
     "text": [
      "End position: -0.2842215374729357\n"
     ]
    },
    {
     "name": "stdout",
     "output_type": "stream",
     "text": [
      "End position: -0.2782711388436594\n"
     ]
    },
    {
     "name": "stdout",
     "output_type": "stream",
     "text": [
      "End position: -0.2844913996384159\n"
     ]
    },
    {
     "name": "stdout",
     "output_type": "stream",
     "text": [
      "End position: -0.3270088164543555\n"
     ]
    },
    {
     "name": "stdout",
     "output_type": "stream",
     "text": [
      "End position: -0.2900905452206806\n"
     ]
    },
    {
     "name": "stdout",
     "output_type": "stream",
     "text": [
      "End position: -0.35015110874403677\n"
     ]
    },
    {
     "name": "stdout",
     "output_type": "stream",
     "text": [
      "End position: -0.20219717614079338\n"
     ]
    },
    {
     "name": "stdout",
     "output_type": "stream",
     "text": [
      "End position: -0.3680987649803343\n"
     ]
    },
    {
     "name": "stdout",
     "output_type": "stream",
     "text": [
      "End position: -0.354374719896903\n"
     ]
    },
    {
     "name": "stdout",
     "output_type": "stream",
     "text": [
      "End position: -0.19264902050201343\n"
     ]
    },
    {
     "name": "stdout",
     "output_type": "stream",
     "text": [
      "End position: -0.3212850022842785\n"
     ]
    },
    {
     "name": "stdout",
     "output_type": "stream",
     "text": [
      "End position: -0.29932130658691974\n"
     ]
    },
    {
     "name": "stdout",
     "output_type": "stream",
     "text": [
      "End position: -0.2859816334212744\n"
     ]
    },
    {
     "name": "stdout",
     "output_type": "stream",
     "text": [
      "End position: -0.1852972215950242\n"
     ]
    },
    {
     "name": "stdout",
     "output_type": "stream",
     "text": [
      "End position: -0.33708722864144725\n"
     ]
    },
    {
     "name": "stdout",
     "output_type": "stream",
     "text": [
      "End position: -0.2655380271782991\n"
     ]
    },
    {
     "name": "stdout",
     "output_type": "stream",
     "text": [
      "End position: -0.2756670748722153\n"
     ]
    },
    {
     "name": "stdout",
     "output_type": "stream",
     "text": [
      "End position: -0.3452634446043994\n"
     ]
    },
    {
     "name": "stdout",
     "output_type": "stream",
     "text": [
      "End position: -0.3498685076611505\n"
     ]
    },
    {
     "name": "stdout",
     "output_type": "stream",
     "text": [
      "End position: -0.20535981827708316\n"
     ]
    },
    {
     "name": "stdout",
     "output_type": "stream",
     "text": [
      "End position: -0.3779242781464312\n"
     ]
    },
    {
     "name": "stdout",
     "output_type": "stream",
     "text": [
      "End position: -0.20722923637968052\n"
     ]
    },
    {
     "name": "stdout",
     "output_type": "stream",
     "text": [
      "End position: -0.19684886203000945\n"
     ]
    },
    {
     "name": "stdout",
     "output_type": "stream",
     "text": [
      "End position: -0.27276560533538013\n"
     ]
    },
    {
     "name": "stdout",
     "output_type": "stream",
     "text": [
      "End position: -0.3128567283805416\n"
     ]
    },
    {
     "name": "stdout",
     "output_type": "stream",
     "text": [
      "End position: -0.17324483805844404\n"
     ]
    },
    {
     "name": "stdout",
     "output_type": "stream",
     "text": [
      "End position: -0.3470896903717039\n"
     ]
    },
    {
     "name": "stdout",
     "output_type": "stream",
     "text": [
      "End position: -0.3702267699910664\n"
     ]
    },
    {
     "name": "stdout",
     "output_type": "stream",
     "text": [
      "End position: -0.3593395673687642\n"
     ]
    },
    {
     "name": "stdout",
     "output_type": "stream",
     "text": [
      "End position: -0.31789387174938316\n"
     ]
    },
    {
     "name": "stdout",
     "output_type": "stream",
     "text": [
      "End position: -0.3725449363017571\n"
     ]
    },
    {
     "name": "stdout",
     "output_type": "stream",
     "text": [
      "End position: -0.31273650729023195\n"
     ]
    },
    {
     "name": "stdout",
     "output_type": "stream",
     "text": [
      "End position: -0.21978402357623206\n"
     ]
    },
    {
     "name": "stdout",
     "output_type": "stream",
     "text": [
      "End position: -0.31781938374643065\n"
     ]
    },
    {
     "name": "stdout",
     "output_type": "stream",
     "text": [
      "End position: -0.19800225109720085\n"
     ]
    },
    {
     "name": "stdout",
     "output_type": "stream",
     "text": [
      "End position: -0.3219693389119319\n"
     ]
    },
    {
     "name": "stdout",
     "output_type": "stream",
     "text": [
      "End position: -0.3154277376323996\n"
     ]
    },
    {
     "name": "stdout",
     "output_type": "stream",
     "text": [
      "End position: -0.363438704396054\n"
     ]
    },
    {
     "name": "stdout",
     "output_type": "stream",
     "text": [
      "End position: -0.19513010996041127\n"
     ]
    },
    {
     "name": "stdout",
     "output_type": "stream",
     "text": [
      "End position: -0.18333165274873886\n"
     ]
    },
    {
     "name": "stdout",
     "output_type": "stream",
     "text": [
      "End position: -0.16729318644792676\n"
     ]
    },
    {
     "name": "stdout",
     "output_type": "stream",
     "text": [
      "End position: -0.2526587138069708\n"
     ]
    },
    {
     "name": "stdout",
     "output_type": "stream",
     "text": [
      "End position: -0.24275241304844125\n"
     ]
    },
    {
     "name": "stdout",
     "output_type": "stream",
     "text": [
      "End position: -0.2367503887099829\n"
     ]
    },
    {
     "name": "stdout",
     "output_type": "stream",
     "text": [
      "End position: -0.3324447676055462\n"
     ]
    },
    {
     "name": "stdout",
     "output_type": "stream",
     "text": [
      "End position: -0.2310206183990075\n"
     ]
    },
    {
     "name": "stdout",
     "output_type": "stream",
     "text": [
      "End position: -0.32400539005017953\n"
     ]
    },
    {
     "name": "stdout",
     "output_type": "stream",
     "text": [
      "End position: -0.3394754016700944\n"
     ]
    },
    {
     "name": "stdout",
     "output_type": "stream",
     "text": [
      "End position: -0.2725395938457381\n"
     ]
    },
    {
     "name": "stdout",
     "output_type": "stream",
     "text": [
      "End position: -0.3004470514372372\n"
     ]
    },
    {
     "name": "stdout",
     "output_type": "stream",
     "text": [
      "End position: -0.3090437801226312\n"
     ]
    },
    {
     "name": "stdout",
     "output_type": "stream",
     "text": [
      "End position: -0.2343096796223558\n"
     ]
    },
    {
     "name": "stdout",
     "output_type": "stream",
     "text": [
      "End position: -0.298635460196062\n"
     ]
    },
    {
     "name": "stdout",
     "output_type": "stream",
     "text": [
      "End position: -0.16071885610635395\n"
     ]
    },
    {
     "name": "stdout",
     "output_type": "stream",
     "text": [
      "End position: -0.37754021580042235\n"
     ]
    },
    {
     "name": "stdout",
     "output_type": "stream",
     "text": [
      "End position: -0.3393332949773638\n"
     ]
    },
    {
     "name": "stdout",
     "output_type": "stream",
     "text": [
      "End position: -0.3557601093074843\n"
     ]
    },
    {
     "name": "stdout",
     "output_type": "stream",
     "text": [
      "End position: -0.2746390827436424\n"
     ]
    },
    {
     "name": "stdout",
     "output_type": "stream",
     "text": [
      "End position: -0.3635297912602026\n"
     ]
    },
    {
     "name": "stdout",
     "output_type": "stream",
     "text": [
      "End position: -0.29420263665447843\n"
     ]
    },
    {
     "name": "stdout",
     "output_type": "stream",
     "text": [
      "End position: -0.30837572910657\n"
     ]
    },
    {
     "name": "stdout",
     "output_type": "stream",
     "text": [
      "End position: -0.337392058762006\n"
     ]
    },
    {
     "name": "stdout",
     "output_type": "stream",
     "text": [
      "End position: -0.35953719114904586\n"
     ]
    },
    {
     "name": "stdout",
     "output_type": "stream",
     "text": [
      "End position: -0.32279965480196426\n"
     ]
    },
    {
     "name": "stdout",
     "output_type": "stream",
     "text": [
      "End position: -0.3760385951071241\n"
     ]
    },
    {
     "name": "stdout",
     "output_type": "stream",
     "text": [
      "End position: -0.3753887911862108\n"
     ]
    },
    {
     "name": "stdout",
     "output_type": "stream",
     "text": [
      "End position: -0.35535358193090805\n"
     ]
    },
    {
     "name": "stdout",
     "output_type": "stream",
     "text": [
      "End position: -0.3673838922539753\n"
     ]
    },
    {
     "name": "stdout",
     "output_type": "stream",
     "text": [
      "End position: -0.1724746650810071\n"
     ]
    },
    {
     "name": "stdout",
     "output_type": "stream",
     "text": [
      "End position: -0.21777572619453828\n"
     ]
    },
    {
     "name": "stdout",
     "output_type": "stream",
     "text": [
      "End position: -0.18198300843046375\n"
     ]
    },
    {
     "name": "stdout",
     "output_type": "stream",
     "text": [
      "End position: -0.37124392940990236\n"
     ]
    },
    {
     "name": "stdout",
     "output_type": "stream",
     "text": [
      "End position: -0.3241302817326868\n"
     ]
    },
    {
     "name": "stdout",
     "output_type": "stream",
     "text": [
      "End position: -0.2795104678880311\n"
     ]
    },
    {
     "name": "stdout",
     "output_type": "stream",
     "text": [
      "End position: -0.29986738351506537\n"
     ]
    },
    {
     "name": "stdout",
     "output_type": "stream",
     "text": [
      "End position: -0.2846004935120116\n"
     ]
    },
    {
     "name": "stdout",
     "output_type": "stream",
     "text": [
      "End position: -0.33280199567479624\n"
     ]
    },
    {
     "name": "stdout",
     "output_type": "stream",
     "text": [
      "End position: -0.35934160867295273\n"
     ]
    },
    {
     "name": "stdout",
     "output_type": "stream",
     "text": [
      "End position: -0.3556399237848715\n"
     ]
    },
    {
     "name": "stdout",
     "output_type": "stream",
     "text": [
      "End position: -0.23666968650932574\n"
     ]
    },
    {
     "name": "stdout",
     "output_type": "stream",
     "text": [
      "End position: -0.3777221266143558\n"
     ]
    },
    {
     "name": "stdout",
     "output_type": "stream",
     "text": [
      "End position: -0.3113966705632948\n"
     ]
    },
    {
     "name": "stdout",
     "output_type": "stream",
     "text": [
      "End position: -0.3188656281147934\n"
     ]
    },
    {
     "name": "stdout",
     "output_type": "stream",
     "text": [
      "End position: -0.3445004948892007\n"
     ]
    },
    {
     "name": "stdout",
     "output_type": "stream",
     "text": [
      "End position: -0.22737233709142268\n"
     ]
    },
    {
     "name": "stdout",
     "output_type": "stream",
     "text": [
      "End position: -0.33925076794535036\n"
     ]
    },
    {
     "name": "stdout",
     "output_type": "stream",
     "text": [
      "End position: -0.2693910294124311\n"
     ]
    },
    {
     "name": "stdout",
     "output_type": "stream",
     "text": [
      "End position: -0.3285986858598823\n"
     ]
    },
    {
     "name": "stdout",
     "output_type": "stream",
     "text": [
      "End position: -0.32940727446677665\n"
     ]
    },
    {
     "name": "stdout",
     "output_type": "stream",
     "text": [
      "End position: -0.2670947733934041\n"
     ]
    },
    {
     "name": "stdout",
     "output_type": "stream",
     "text": [
      "End position: -0.35886195321762526\n"
     ]
    },
    {
     "name": "stdout",
     "output_type": "stream",
     "text": [
      "End position: -0.3563855817340263\n"
     ]
    },
    {
     "name": "stdout",
     "output_type": "stream",
     "text": [
      "End position: -0.3439457056893725\n"
     ]
    },
    {
     "name": "stdout",
     "output_type": "stream",
     "text": [
      "End position: -0.3320656447679453\n"
     ]
    },
    {
     "name": "stdout",
     "output_type": "stream",
     "text": [
      "End position: -0.16765310003025422\n"
     ]
    },
    {
     "name": "stdout",
     "output_type": "stream",
     "text": [
      "End position: -0.3287521159751953\n"
     ]
    },
    {
     "name": "stdout",
     "output_type": "stream",
     "text": [
      "End position: -0.3710430327410548\n"
     ]
    },
    {
     "name": "stdout",
     "output_type": "stream",
     "text": [
      "End position: -0.2304974423616937\n"
     ]
    },
    {
     "name": "stdout",
     "output_type": "stream",
     "text": [
      "End position: -0.2612290133683681\n"
     ]
    },
    {
     "name": "stdout",
     "output_type": "stream",
     "text": [
      "End position: -0.31636302725860527\n"
     ]
    },
    {
     "name": "stdout",
     "output_type": "stream",
     "text": [
      "End position: -0.17840840668064606\n"
     ]
    },
    {
     "name": "stdout",
     "output_type": "stream",
     "text": [
      "End position: -0.21907196550311805\n"
     ]
    },
    {
     "name": "stdout",
     "output_type": "stream",
     "text": [
      "End position: -0.19732871673285482\n"
     ]
    },
    {
     "name": "stdout",
     "output_type": "stream",
     "text": [
      "End position: -0.17464404808300593\n"
     ]
    },
    {
     "name": "stdout",
     "output_type": "stream",
     "text": [
      "End position: -0.3155945730287124\n"
     ]
    },
    {
     "name": "stdout",
     "output_type": "stream",
     "text": [
      "End position: -0.3453911651225449\n"
     ]
    },
    {
     "name": "stdout",
     "output_type": "stream",
     "text": [
      "End position: -0.16428179504901547\n"
     ]
    },
    {
     "name": "stdout",
     "output_type": "stream",
     "text": [
      "End position: -0.35375648759033523\n"
     ]
    },
    {
     "name": "stdout",
     "output_type": "stream",
     "text": [
      "End position: -0.31443208000654277\n"
     ]
    },
    {
     "name": "stdout",
     "output_type": "stream",
     "text": [
      "End position: -0.19654077266123535\n"
     ]
    },
    {
     "name": "stdout",
     "output_type": "stream",
     "text": [
      "End position: -0.35888447693413206\n"
     ]
    },
    {
     "name": "stdout",
     "output_type": "stream",
     "text": [
      "End position: -0.3599922481879387\n"
     ]
    },
    {
     "name": "stdout",
     "output_type": "stream",
     "text": [
      "End position: -0.29354652124405506\n"
     ]
    },
    {
     "name": "stdout",
     "output_type": "stream",
     "text": [
      "End position: -0.2590989089607012\n"
     ]
    },
    {
     "name": "stdout",
     "output_type": "stream",
     "text": [
      "End position: -0.35672096539768333\n"
     ]
    },
    {
     "name": "stdout",
     "output_type": "stream",
     "text": [
      "End position: -0.20629151202818868\n"
     ]
    },
    {
     "name": "stdout",
     "output_type": "stream",
     "text": [
      "End position: -0.29832346310293256\n"
     ]
    },
    {
     "name": "stdout",
     "output_type": "stream",
     "text": [
      "End position: -0.19911853805462426\n"
     ]
    },
    {
     "name": "stdout",
     "output_type": "stream",
     "text": [
      "End position: -0.34649949736181396\n"
     ]
    },
    {
     "name": "stdout",
     "output_type": "stream",
     "text": [
      "End position: -0.28904970431965016\n"
     ]
    },
    {
     "name": "stdout",
     "output_type": "stream",
     "text": [
      "End position: -0.19471121946531844\n"
     ]
    },
    {
     "name": "stdout",
     "output_type": "stream",
     "text": [
      "End position: -0.15980911848146723\n"
     ]
    },
    {
     "name": "stdout",
     "output_type": "stream",
     "text": [
      "End position: -0.35777770072970516\n"
     ]
    },
    {
     "name": "stdout",
     "output_type": "stream",
     "text": [
      "End position: -0.3663207017918244\n"
     ]
    },
    {
     "name": "stdout",
     "output_type": "stream",
     "text": [
      "End position: -0.1912816225344149\n"
     ]
    },
    {
     "name": "stdout",
     "output_type": "stream",
     "text": [
      "End position: -0.336953511820105\n"
     ]
    },
    {
     "name": "stdout",
     "output_type": "stream",
     "text": [
      "End position: -0.24578739168716549\n"
     ]
    },
    {
     "name": "stdout",
     "output_type": "stream",
     "text": [
      "End position: -0.23000177350131648\n"
     ]
    },
    {
     "name": "stdout",
     "output_type": "stream",
     "text": [
      "End position: -0.2622228358607357\n"
     ]
    },
    {
     "name": "stdout",
     "output_type": "stream",
     "text": [
      "End position: -0.32876975344755227\n"
     ]
    },
    {
     "name": "stdout",
     "output_type": "stream",
     "text": [
      "End position: -0.2884297313817128\n"
     ]
    },
    {
     "name": "stdout",
     "output_type": "stream",
     "text": [
      "End position: -0.32479059218064904\n"
     ]
    },
    {
     "name": "stdout",
     "output_type": "stream",
     "text": [
      "End position: -0.18141380021953482\n"
     ]
    },
    {
     "name": "stdout",
     "output_type": "stream",
     "text": [
      "End position: -0.29834023559218065\n"
     ]
    },
    {
     "name": "stdout",
     "output_type": "stream",
     "text": [
      "End position: -0.35616030879027294\n"
     ]
    },
    {
     "name": "stdout",
     "output_type": "stream",
     "text": [
      "End position: -0.376718276921578\n"
     ]
    },
    {
     "name": "stdout",
     "output_type": "stream",
     "text": [
      "End position: -0.3518465378378118\n"
     ]
    },
    {
     "name": "stdout",
     "output_type": "stream",
     "text": [
      "End position: -0.3377731918881756\n"
     ]
    },
    {
     "name": "stdout",
     "output_type": "stream",
     "text": [
      "End position: -0.15910756839536017\n"
     ]
    },
    {
     "name": "stdout",
     "output_type": "stream",
     "text": [
      "End position: -0.20715569245438925\n"
     ]
    },
    {
     "name": "stdout",
     "output_type": "stream",
     "text": [
      "End position: -0.23064097967478844\n"
     ]
    },
    {
     "name": "stdout",
     "output_type": "stream",
     "text": [
      "End position: -0.1927250007370454\n"
     ]
    },
    {
     "name": "stdout",
     "output_type": "stream",
     "text": [
      "End position: -0.19046844371371657\n"
     ]
    },
    {
     "name": "stdout",
     "output_type": "stream",
     "text": [
      "End position: -0.35493539262593626\n"
     ]
    },
    {
     "name": "stdout",
     "output_type": "stream",
     "text": [
      "End position: -0.33956862516154884\n"
     ]
    },
    {
     "name": "stdout",
     "output_type": "stream",
     "text": [
      "End position: -0.27905119127740013\n"
     ]
    },
    {
     "name": "stdout",
     "output_type": "stream",
     "text": [
      "End position: -0.2996196863876048\n"
     ]
    },
    {
     "name": "stdout",
     "output_type": "stream",
     "text": [
      "End position: -0.3426110946299193\n"
     ]
    },
    {
     "name": "stdout",
     "output_type": "stream",
     "text": [
      "End position: -0.373314763380846\n"
     ]
    },
    {
     "name": "stdout",
     "output_type": "stream",
     "text": [
      "End position: -0.19321703709761406\n"
     ]
    },
    {
     "name": "stdout",
     "output_type": "stream",
     "text": [
      "End position: -0.23654755817985676\n"
     ]
    },
    {
     "name": "stdout",
     "output_type": "stream",
     "text": [
      "End position: -0.33403398308481524\n"
     ]
    },
    {
     "name": "stdout",
     "output_type": "stream",
     "text": [
      "End position: -0.21867954601685025\n"
     ]
    },
    {
     "name": "stdout",
     "output_type": "stream",
     "text": [
      "End position: -0.321979476016958\n"
     ]
    },
    {
     "name": "stdout",
     "output_type": "stream",
     "text": [
      "End position: -0.22539694165932828\n"
     ]
    },
    {
     "name": "stdout",
     "output_type": "stream",
     "text": [
      "End position: -0.3141196819440424\n"
     ]
    },
    {
     "name": "stdout",
     "output_type": "stream",
     "text": [
      "End position: -0.1957068219409582\n"
     ]
    },
    {
     "name": "stdout",
     "output_type": "stream",
     "text": [
      "End position: -0.33919433483823574\n"
     ]
    },
    {
     "name": "stdout",
     "output_type": "stream",
     "text": [
      "End position: -0.331748860757648\n"
     ]
    },
    {
     "name": "stdout",
     "output_type": "stream",
     "text": [
      "End position: -0.2511562431677828\n"
     ]
    },
    {
     "name": "stdout",
     "output_type": "stream",
     "text": [
      "End position: -0.3736874035000111\n"
     ]
    },
    {
     "name": "stdout",
     "output_type": "stream",
     "text": [
      "End position: -0.35389826311351885\n"
     ]
    },
    {
     "name": "stdout",
     "output_type": "stream",
     "text": [
      "End position: -0.20210913192319258\n"
     ]
    },
    {
     "name": "stdout",
     "output_type": "stream",
     "text": [
      "End position: -0.37029885907885424\n"
     ]
    },
    {
     "name": "stdout",
     "output_type": "stream",
     "text": [
      "End position: -0.2004890300718824\n"
     ]
    },
    {
     "name": "stdout",
     "output_type": "stream",
     "text": [
      "End position: -0.2405004641730325\n"
     ]
    },
    {
     "name": "stdout",
     "output_type": "stream",
     "text": [
      "End position: -0.3651177766802733\n"
     ]
    },
    {
     "name": "stdout",
     "output_type": "stream",
     "text": [
      "End position: -0.3379629587766275\n"
     ]
    },
    {
     "name": "stdout",
     "output_type": "stream",
     "text": [
      "End position: -0.18001383774069263\n"
     ]
    },
    {
     "name": "stdout",
     "output_type": "stream",
     "text": [
      "End position: -0.21672308331299434\n"
     ]
    },
    {
     "name": "stdout",
     "output_type": "stream",
     "text": [
      "End position: -0.22067933289583797\n"
     ]
    },
    {
     "name": "stdout",
     "output_type": "stream",
     "text": [
      "End position: -0.31251492905552697\n"
     ]
    },
    {
     "name": "stdout",
     "output_type": "stream",
     "text": [
      "End position: -0.3726767248095846\n"
     ]
    },
    {
     "name": "stdout",
     "output_type": "stream",
     "text": [
      "End position: -0.37705212396172305\n"
     ]
    },
    {
     "name": "stdout",
     "output_type": "stream",
     "text": [
      "End position: -0.3369839948700135\n"
     ]
    },
    {
     "name": "stdout",
     "output_type": "stream",
     "text": [
      "End position: -0.23451720133478574\n"
     ]
    },
    {
     "name": "stdout",
     "output_type": "stream",
     "text": [
      "End position: -0.17884404534387\n"
     ]
    },
    {
     "name": "stdout",
     "output_type": "stream",
     "text": [
      "End position: -0.37565481080290103\n"
     ]
    },
    {
     "name": "stdout",
     "output_type": "stream",
     "text": [
      "End position: -0.28807131190015367\n"
     ]
    },
    {
     "name": "stdout",
     "output_type": "stream",
     "text": [
      "End position: -0.3407315360603777\n"
     ]
    },
    {
     "name": "stdout",
     "output_type": "stream",
     "text": [
      "End position: -0.3182345145699113\n"
     ]
    },
    {
     "name": "stdout",
     "output_type": "stream",
     "text": [
      "End position: -0.2918453985537204\n"
     ]
    },
    {
     "name": "stdout",
     "output_type": "stream",
     "text": [
      "End position: -0.3032864341647272\n"
     ]
    },
    {
     "name": "stdout",
     "output_type": "stream",
     "text": [
      "End position: -0.3012236855739988\n"
     ]
    },
    {
     "name": "stdout",
     "output_type": "stream",
     "text": [
      "End position: -0.34591582782377683\n"
     ]
    },
    {
     "name": "stdout",
     "output_type": "stream",
     "text": [
      "End position: -0.2906154586864227\n"
     ]
    },
    {
     "name": "stdout",
     "output_type": "stream",
     "text": [
      "End position: -0.33383381163977227\n"
     ]
    },
    {
     "name": "stdout",
     "output_type": "stream",
     "text": [
      "End position: -0.24036161381253707\n"
     ]
    },
    {
     "name": "stdout",
     "output_type": "stream",
     "text": [
      "End position: -0.2387451830564091\n"
     ]
    },
    {
     "name": "stdout",
     "output_type": "stream",
     "text": [
      "End position: -0.20551301461782934\n"
     ]
    },
    {
     "name": "stdout",
     "output_type": "stream",
     "text": [
      "End position: -0.34706727817967026\n"
     ]
    },
    {
     "name": "stdout",
     "output_type": "stream",
     "text": [
      "End position: -0.3755118551681888\n"
     ]
    },
    {
     "name": "stdout",
     "output_type": "stream",
     "text": [
      "End position: -0.3253805110256587\n"
     ]
    },
    {
     "name": "stdout",
     "output_type": "stream",
     "text": [
      "End position: -0.20972309388757987\n"
     ]
    },
    {
     "name": "stdout",
     "output_type": "stream",
     "text": [
      "End position: -0.21297220106398104\n"
     ]
    },
    {
     "name": "stdout",
     "output_type": "stream",
     "text": [
      "End position: -0.32167606551277683\n"
     ]
    },
    {
     "name": "stdout",
     "output_type": "stream",
     "text": [
      "End position: -0.35757953397247744\n"
     ]
    },
    {
     "name": "stdout",
     "output_type": "stream",
     "text": [
      "End position: -0.18779112756744568\n"
     ]
    },
    {
     "name": "stdout",
     "output_type": "stream",
     "text": [
      "End position: -0.30574881644488294\n"
     ]
    },
    {
     "name": "stdout",
     "output_type": "stream",
     "text": [
      "End position: -0.2987765184959248\n"
     ]
    },
    {
     "name": "stdout",
     "output_type": "stream",
     "text": [
      "End position: -0.21324898540300571\n"
     ]
    },
    {
     "name": "stdout",
     "output_type": "stream",
     "text": [
      "End position: -0.15879094237018018\n"
     ]
    },
    {
     "name": "stdout",
     "output_type": "stream",
     "text": [
      "End position: -0.2053683044091422\n"
     ]
    },
    {
     "name": "stdout",
     "output_type": "stream",
     "text": [
      "End position: -0.24905350212540078\n"
     ]
    },
    {
     "name": "stdout",
     "output_type": "stream",
     "text": [
      "End position: -0.3512501936461972\n"
     ]
    },
    {
     "name": "stdout",
     "output_type": "stream",
     "text": [
      "End position: -0.24907017908945644\n"
     ]
    },
    {
     "name": "stdout",
     "output_type": "stream",
     "text": [
      "End position: -0.3000421989121706\n"
     ]
    },
    {
     "name": "stdout",
     "output_type": "stream",
     "text": [
      "End position: -0.33620595743613935\n"
     ]
    },
    {
     "name": "stdout",
     "output_type": "stream",
     "text": [
      "End position: -0.3001371324251863\n"
     ]
    },
    {
     "name": "stdout",
     "output_type": "stream",
     "text": [
      "End position: -0.2842318310121925\n"
     ]
    },
    {
     "name": "stdout",
     "output_type": "stream",
     "text": [
      "End position: -0.3233535645136015\n"
     ]
    },
    {
     "name": "stdout",
     "output_type": "stream",
     "text": [
      "End position: -0.33206509893087044\n"
     ]
    },
    {
     "name": "stdout",
     "output_type": "stream",
     "text": [
      "End position: -0.3556790666428961\n"
     ]
    },
    {
     "name": "stdout",
     "output_type": "stream",
     "text": [
      "End position: -0.35737724256563014\n"
     ]
    },
    {
     "name": "stdout",
     "output_type": "stream",
     "text": [
      "End position: -0.2895640925559179\n"
     ]
    },
    {
     "name": "stdout",
     "output_type": "stream",
     "text": [
      "End position: -0.2834884005938424\n"
     ]
    },
    {
     "name": "stdout",
     "output_type": "stream",
     "text": [
      "End position: -0.2581557783956224\n"
     ]
    },
    {
     "name": "stdout",
     "output_type": "stream",
     "text": [
      "End position: -0.3165663475865595\n"
     ]
    },
    {
     "name": "stdout",
     "output_type": "stream",
     "text": [
      "End position: -0.1840825051030844\n"
     ]
    },
    {
     "name": "stdout",
     "output_type": "stream",
     "text": [
      "End position: -0.37756536399055823\n"
     ]
    },
    {
     "name": "stdout",
     "output_type": "stream",
     "text": [
      "End position: -0.30446001880118784\n"
     ]
    },
    {
     "name": "stdout",
     "output_type": "stream",
     "text": [
      "End position: -0.18272730130286566\n"
     ]
    },
    {
     "name": "stdout",
     "output_type": "stream",
     "text": [
      "End position: -0.21556513594383483\n"
     ]
    },
    {
     "name": "stdout",
     "output_type": "stream",
     "text": [
      "End position: -0.31595606524645803\n"
     ]
    },
    {
     "name": "stdout",
     "output_type": "stream",
     "text": [
      "End position: -0.27107987237806225\n"
     ]
    },
    {
     "name": "stdout",
     "output_type": "stream",
     "text": [
      "End position: -0.278371187436769\n"
     ]
    },
    {
     "name": "stdout",
     "output_type": "stream",
     "text": [
      "End position: -0.3438067435543383\n"
     ]
    },
    {
     "name": "stdout",
     "output_type": "stream",
     "text": [
      "End position: -0.2252000008227468\n"
     ]
    },
    {
     "name": "stdout",
     "output_type": "stream",
     "text": [
      "End position: -0.31484659143873533\n"
     ]
    },
    {
     "name": "stdout",
     "output_type": "stream",
     "text": [
      "End position: -0.20189313149428195\n"
     ]
    },
    {
     "name": "stdout",
     "output_type": "stream",
     "text": [
      "End position: -0.3733056437804416\n"
     ]
    },
    {
     "name": "stdout",
     "output_type": "stream",
     "text": [
      "End position: -0.1769551881019758\n"
     ]
    },
    {
     "name": "stdout",
     "output_type": "stream",
     "text": [
      "End position: -0.2869960742691957\n"
     ]
    },
    {
     "name": "stdout",
     "output_type": "stream",
     "text": [
      "End position: -0.22360483442717824\n"
     ]
    },
    {
     "name": "stdout",
     "output_type": "stream",
     "text": [
      "End position: -0.260385968601898\n"
     ]
    },
    {
     "name": "stdout",
     "output_type": "stream",
     "text": [
      "End position: -0.31302062664162666\n"
     ]
    },
    {
     "name": "stdout",
     "output_type": "stream",
     "text": [
      "End position: -0.24239474356243207\n"
     ]
    },
    {
     "name": "stdout",
     "output_type": "stream",
     "text": [
      "End position: -0.2776393349080292\n"
     ]
    },
    {
     "name": "stdout",
     "output_type": "stream",
     "text": [
      "End position: -0.24520518646177708\n"
     ]
    },
    {
     "name": "stdout",
     "output_type": "stream",
     "text": [
      "End position: -0.1923440958910659\n"
     ]
    },
    {
     "name": "stdout",
     "output_type": "stream",
     "text": [
      "End position: -0.18126530586777254\n"
     ]
    },
    {
     "name": "stdout",
     "output_type": "stream",
     "text": [
      "End position: -0.3267211876824825\n"
     ]
    },
    {
     "name": "stdout",
     "output_type": "stream",
     "text": [
      "End position: -0.3318037256058048\n"
     ]
    },
    {
     "name": "stdout",
     "output_type": "stream",
     "text": [
      "End position: -0.2614296454685314\n"
     ]
    },
    {
     "name": "stdout",
     "output_type": "stream",
     "text": [
      "End position: -0.33992667137178023\n"
     ]
    },
    {
     "name": "stdout",
     "output_type": "stream",
     "text": [
      "End position: -0.35536651284378346\n"
     ]
    },
    {
     "name": "stdout",
     "output_type": "stream",
     "text": [
      "End position: -0.3209911837994765\n"
     ]
    },
    {
     "name": "stdout",
     "output_type": "stream",
     "text": [
      "End position: -0.28423903683930885\n"
     ]
    },
    {
     "name": "stdout",
     "output_type": "stream",
     "text": [
      "End position: -0.3710870641289558\n"
     ]
    },
    {
     "name": "stdout",
     "output_type": "stream",
     "text": [
      "End position: -0.22045896367553147\n"
     ]
    },
    {
     "name": "stdout",
     "output_type": "stream",
     "text": [
      "End position: -0.21511250828364492\n"
     ]
    },
    {
     "name": "stdout",
     "output_type": "stream",
     "text": [
      "End position: -0.15911106609796977\n"
     ]
    },
    {
     "name": "stdout",
     "output_type": "stream",
     "text": [
      "End position: -0.347067119653731\n"
     ]
    },
    {
     "name": "stdout",
     "output_type": "stream",
     "text": [
      "End position: -0.31645590424810455\n"
     ]
    },
    {
     "name": "stdout",
     "output_type": "stream",
     "text": [
      "End position: -0.19215918745854865\n"
     ]
    },
    {
     "name": "stdout",
     "output_type": "stream",
     "text": [
      "End position: -0.2894423252355153\n"
     ]
    },
    {
     "name": "stdout",
     "output_type": "stream",
     "text": [
      "End position: -0.31733618811281744\n"
     ]
    },
    {
     "name": "stdout",
     "output_type": "stream",
     "text": [
      "End position: -0.2319708512897551\n"
     ]
    },
    {
     "name": "stdout",
     "output_type": "stream",
     "text": [
      "End position: -0.3023373514443118\n"
     ]
    },
    {
     "name": "stdout",
     "output_type": "stream",
     "text": [
      "End position: -0.3098216128458755\n"
     ]
    },
    {
     "name": "stdout",
     "output_type": "stream",
     "text": [
      "End position: -0.17998233746731132\n"
     ]
    },
    {
     "name": "stdout",
     "output_type": "stream",
     "text": [
      "End position: -0.2922814518803731\n"
     ]
    },
    {
     "name": "stdout",
     "output_type": "stream",
     "text": [
      "End position: -0.2820285423505591\n"
     ]
    },
    {
     "name": "stdout",
     "output_type": "stream",
     "text": [
      "End position: -0.2863553514064639\n"
     ]
    },
    {
     "name": "stdout",
     "output_type": "stream",
     "text": [
      "End position: -0.33680682221880914\n"
     ]
    },
    {
     "name": "stdout",
     "output_type": "stream",
     "text": [
      "End position: -0.2792258433316947\n"
     ]
    },
    {
     "name": "stdout",
     "output_type": "stream",
     "text": [
      "End position: -0.2204412573987824\n"
     ]
    },
    {
     "name": "stdout",
     "output_type": "stream",
     "text": [
      "End position: -0.33814078673652653\n"
     ]
    },
    {
     "name": "stdout",
     "output_type": "stream",
     "text": [
      "End position: -0.26829727586106034\n"
     ]
    },
    {
     "name": "stdout",
     "output_type": "stream",
     "text": [
      "End position: -0.3229784602355261\n"
     ]
    },
    {
     "name": "stdout",
     "output_type": "stream",
     "text": [
      "End position: -0.21047267621083204\n"
     ]
    },
    {
     "name": "stdout",
     "output_type": "stream",
     "text": [
      "End position: -0.36247977286845273\n"
     ]
    },
    {
     "name": "stdout",
     "output_type": "stream",
     "text": [
      "End position: -0.22886773878721828\n"
     ]
    },
    {
     "name": "stdout",
     "output_type": "stream",
     "text": [
      "End position: -0.25184133410689763\n"
     ]
    },
    {
     "name": "stdout",
     "output_type": "stream",
     "text": [
      "End position: -0.2425420106823197\n"
     ]
    },
    {
     "name": "stdout",
     "output_type": "stream",
     "text": [
      "End position: -0.37750951867487176\n"
     ]
    },
    {
     "name": "stdout",
     "output_type": "stream",
     "text": [
      "End position: -0.23688022229628575\n"
     ]
    },
    {
     "name": "stdout",
     "output_type": "stream",
     "text": [
      "End position: -0.1842483586839983\n"
     ]
    },
    {
     "name": "stdout",
     "output_type": "stream",
     "text": [
      "End position: -0.3446601725382118\n"
     ]
    },
    {
     "name": "stdout",
     "output_type": "stream",
     "text": [
      "End position: -0.24204257416454697\n"
     ]
    },
    {
     "name": "stdout",
     "output_type": "stream",
     "text": [
      "End position: -0.26344306646335247\n"
     ]
    },
    {
     "name": "stdout",
     "output_type": "stream",
     "text": [
      "End position: -0.3512204826158778\n"
     ]
    },
    {
     "name": "stdout",
     "output_type": "stream",
     "text": [
      "End position: -0.3483164794350512\n"
     ]
    },
    {
     "name": "stdout",
     "output_type": "stream",
     "text": [
      "End position: -0.373941122726299\n"
     ]
    },
    {
     "name": "stdout",
     "output_type": "stream",
     "text": [
      "End position: -0.3009608777466634\n"
     ]
    },
    {
     "name": "stdout",
     "output_type": "stream",
     "text": [
      "End position: -0.2651568855592194\n"
     ]
    },
    {
     "name": "stdout",
     "output_type": "stream",
     "text": [
      "End position: -0.1978008111003416\n"
     ]
    },
    {
     "name": "stdout",
     "output_type": "stream",
     "text": [
      "End position: -0.28292960548867196\n"
     ]
    },
    {
     "name": "stdout",
     "output_type": "stream",
     "text": [
      "End position: -0.35979942022851186\n"
     ]
    },
    {
     "name": "stdout",
     "output_type": "stream",
     "text": [
      "End position: -0.3095697045822147\n"
     ]
    },
    {
     "name": "stdout",
     "output_type": "stream",
     "text": [
      "End position: -0.3088943393722322\n"
     ]
    },
    {
     "name": "stdout",
     "output_type": "stream",
     "text": [
      "End position: -0.35823688646321566\n"
     ]
    },
    {
     "name": "stdout",
     "output_type": "stream",
     "text": [
      "End position: -0.2144526227042185\n"
     ]
    },
    {
     "name": "stdout",
     "output_type": "stream",
     "text": [
      "End position: -0.372305816952362\n"
     ]
    },
    {
     "name": "stdout",
     "output_type": "stream",
     "text": [
      "End position: -0.3702530190570392\n"
     ]
    },
    {
     "name": "stdout",
     "output_type": "stream",
     "text": [
      "End position: -0.28296633945206034\n"
     ]
    },
    {
     "name": "stdout",
     "output_type": "stream",
     "text": [
      "End position: -0.2354346210055336\n"
     ]
    },
    {
     "name": "stdout",
     "output_type": "stream",
     "text": [
      "End position: -0.3003915930467374\n"
     ]
    },
    {
     "name": "stdout",
     "output_type": "stream",
     "text": [
      "End position: -0.3775097651489805\n"
     ]
    },
    {
     "name": "stdout",
     "output_type": "stream",
     "text": [
      "End position: -0.2781097772272085\n"
     ]
    },
    {
     "name": "stdout",
     "output_type": "stream",
     "text": [
      "End position: -0.3745846601196823\n"
     ]
    },
    {
     "name": "stdout",
     "output_type": "stream",
     "text": [
      "End position: -0.33951079770621795\n"
     ]
    },
    {
     "name": "stdout",
     "output_type": "stream",
     "text": [
      "End position: -0.2945949865591591\n"
     ]
    },
    {
     "name": "stdout",
     "output_type": "stream",
     "text": [
      "End position: -0.2745155135417443\n"
     ]
    },
    {
     "name": "stdout",
     "output_type": "stream",
     "text": [
      "End position: -0.2824292160664773\n"
     ]
    },
    {
     "name": "stdout",
     "output_type": "stream",
     "text": [
      "End position: -0.3198612987922513\n"
     ]
    },
    {
     "name": "stdout",
     "output_type": "stream",
     "text": [
      "End position: -0.30550111412420283\n"
     ]
    },
    {
     "name": "stdout",
     "output_type": "stream",
     "text": [
      "End position: -0.24217867667803017\n"
     ]
    },
    {
     "name": "stdout",
     "output_type": "stream",
     "text": [
      "End position: -0.2406850491283623\n"
     ]
    },
    {
     "name": "stdout",
     "output_type": "stream",
     "text": [
      "End position: -0.34381928440949616\n"
     ]
    },
    {
     "name": "stdout",
     "output_type": "stream",
     "text": [
      "End position: -0.25589041202616486\n"
     ]
    },
    {
     "name": "stdout",
     "output_type": "stream",
     "text": [
      "End position: -0.36385380611138496\n"
     ]
    },
    {
     "name": "stdout",
     "output_type": "stream",
     "text": [
      "End position: -0.2598705678141062\n"
     ]
    },
    {
     "name": "stdout",
     "output_type": "stream",
     "text": [
      "End position: -0.35339967826065016\n"
     ]
    },
    {
     "name": "stdout",
     "output_type": "stream",
     "text": [
      "End position: -0.20323916240837173\n"
     ]
    },
    {
     "name": "stdout",
     "output_type": "stream",
     "text": [
      "End position: -0.32434136709616923\n"
     ]
    },
    {
     "name": "stdout",
     "output_type": "stream",
     "text": [
      "End position: -0.3073799605218856\n"
     ]
    },
    {
     "name": "stdout",
     "output_type": "stream",
     "text": [
      "End position: -0.23986788028186962\n"
     ]
    },
    {
     "name": "stdout",
     "output_type": "stream",
     "text": [
      "End position: -0.3745547367213139\n"
     ]
    },
    {
     "name": "stdout",
     "output_type": "stream",
     "text": [
      "End position: -0.3482605457350247\n"
     ]
    },
    {
     "name": "stdout",
     "output_type": "stream",
     "text": [
      "End position: -0.3238334754846467\n"
     ]
    },
    {
     "name": "stdout",
     "output_type": "stream",
     "text": [
      "End position: -0.1745221204166155\n"
     ]
    },
    {
     "name": "stdout",
     "output_type": "stream",
     "text": [
      "End position: -0.29509044115987576\n"
     ]
    },
    {
     "name": "stdout",
     "output_type": "stream",
     "text": [
      "End position: -0.3058397469141246\n"
     ]
    },
    {
     "name": "stdout",
     "output_type": "stream",
     "text": [
      "End position: -0.20479520576143959\n"
     ]
    },
    {
     "name": "stdout",
     "output_type": "stream",
     "text": [
      "End position: -0.2661723876436334\n"
     ]
    },
    {
     "name": "stdout",
     "output_type": "stream",
     "text": [
      "End position: -0.2276006374942428\n"
     ]
    },
    {
     "name": "stdout",
     "output_type": "stream",
     "text": [
      "End position: -0.3532798034416229\n"
     ]
    },
    {
     "name": "stdout",
     "output_type": "stream",
     "text": [
      "End position: -0.26359315961664115\n"
     ]
    },
    {
     "name": "stdout",
     "output_type": "stream",
     "text": [
      "End position: -0.18067213692878234\n"
     ]
    },
    {
     "name": "stdout",
     "output_type": "stream",
     "text": [
      "End position: -0.3560089254129397\n"
     ]
    },
    {
     "name": "stdout",
     "output_type": "stream",
     "text": [
      "End position: -0.17499367292025167\n"
     ]
    },
    {
     "name": "stdout",
     "output_type": "stream",
     "text": [
      "End position: -0.36651953606944226\n"
     ]
    },
    {
     "name": "stdout",
     "output_type": "stream",
     "text": [
      "End position: -0.3692780697751314\n"
     ]
    },
    {
     "name": "stdout",
     "output_type": "stream",
     "text": [
      "End position: -0.2648443440576568\n"
     ]
    },
    {
     "name": "stdout",
     "output_type": "stream",
     "text": [
      "End position: -0.23533431412652772\n"
     ]
    },
    {
     "name": "stdout",
     "output_type": "stream",
     "text": [
      "End position: -0.3007090773882972\n"
     ]
    },
    {
     "name": "stdout",
     "output_type": "stream",
     "text": [
      "End position: -0.3769964154718246\n"
     ]
    },
    {
     "name": "stdout",
     "output_type": "stream",
     "text": [
      "End position: -0.22469181898336607\n"
     ]
    },
    {
     "name": "stdout",
     "output_type": "stream",
     "text": [
      "End position: -0.3522940075298102\n"
     ]
    },
    {
     "name": "stdout",
     "output_type": "stream",
     "text": [
      "End position: -0.24863385216685616\n"
     ]
    },
    {
     "name": "stdout",
     "output_type": "stream",
     "text": [
      "End position: -0.20112597566117726\n"
     ]
    },
    {
     "name": "stdout",
     "output_type": "stream",
     "text": [
      "End position: -0.25509806684696906\n"
     ]
    },
    {
     "name": "stdout",
     "output_type": "stream",
     "text": [
      "End position: -0.20185207361331464\n"
     ]
    },
    {
     "name": "stdout",
     "output_type": "stream",
     "text": [
      "End position: -0.16608404807163857\n"
     ]
    },
    {
     "name": "stdout",
     "output_type": "stream",
     "text": [
      "End position: -0.29555842560056034\n"
     ]
    },
    {
     "name": "stdout",
     "output_type": "stream",
     "text": [
      "End position: -0.3370723060965251\n"
     ]
    },
    {
     "name": "stdout",
     "output_type": "stream",
     "text": [
      "End position: -0.30717735572335225\n"
     ]
    },
    {
     "name": "stdout",
     "output_type": "stream",
     "text": [
      "End position: -0.22985837414432095\n"
     ]
    },
    {
     "name": "stdout",
     "output_type": "stream",
     "text": [
      "End position: -0.28480576834741556\n"
     ]
    },
    {
     "name": "stdout",
     "output_type": "stream",
     "text": [
      "End position: -0.332868505859249\n"
     ]
    },
    {
     "name": "stdout",
     "output_type": "stream",
     "text": [
      "End position: -0.37640664807668595\n"
     ]
    },
    {
     "name": "stdout",
     "output_type": "stream",
     "text": [
      "End position: -0.26577833662997935\n"
     ]
    },
    {
     "name": "stdout",
     "output_type": "stream",
     "text": [
      "End position: -0.3465040261354338\n"
     ]
    },
    {
     "name": "stdout",
     "output_type": "stream",
     "text": [
      "End position: -0.31222435558297484\n"
     ]
    },
    {
     "name": "stdout",
     "output_type": "stream",
     "text": [
      "End position: -0.16934044947552696\n"
     ]
    },
    {
     "name": "stdout",
     "output_type": "stream",
     "text": [
      "End position: -0.2567950257063249\n"
     ]
    },
    {
     "name": "stdout",
     "output_type": "stream",
     "text": [
      "End position: -0.36930159631613785\n"
     ]
    },
    {
     "name": "stdout",
     "output_type": "stream",
     "text": [
      "End position: -0.37347807692877527\n"
     ]
    },
    {
     "name": "stdout",
     "output_type": "stream",
     "text": [
      "End position: -0.18629760575883111\n"
     ]
    },
    {
     "name": "stdout",
     "output_type": "stream",
     "text": [
      "End position: -0.36112243547818945\n"
     ]
    },
    {
     "name": "stdout",
     "output_type": "stream",
     "text": [
      "End position: -0.1954980789290901\n"
     ]
    },
    {
     "name": "stdout",
     "output_type": "stream",
     "text": [
      "End position: -0.21364507583165068\n"
     ]
    },
    {
     "name": "stdout",
     "output_type": "stream",
     "text": [
      "End position: -0.2521518100980208\n"
     ]
    },
    {
     "name": "stdout",
     "output_type": "stream",
     "text": [
      "End position: -0.340557944055262\n"
     ]
    },
    {
     "name": "stdout",
     "output_type": "stream",
     "text": [
      "End position: -0.2275941712786864\n"
     ]
    },
    {
     "name": "stdout",
     "output_type": "stream",
     "text": [
      "End position: -0.2970255632576352\n"
     ]
    },
    {
     "name": "stdout",
     "output_type": "stream",
     "text": [
      "End position: -0.3107601334774885\n"
     ]
    },
    {
     "name": "stdout",
     "output_type": "stream",
     "text": [
      "End position: -0.26707457676090335\n"
     ]
    },
    {
     "name": "stdout",
     "output_type": "stream",
     "text": [
      "End position: -0.3733334761829828\n"
     ]
    },
    {
     "name": "stdout",
     "output_type": "stream",
     "text": [
      "End position: -0.17906373702693823\n"
     ]
    },
    {
     "name": "stdout",
     "output_type": "stream",
     "text": [
      "End position: -0.23771994478427577\n"
     ]
    },
    {
     "name": "stdout",
     "output_type": "stream",
     "text": [
      "End position: -0.33062808126787524\n"
     ]
    },
    {
     "name": "stdout",
     "output_type": "stream",
     "text": [
      "End position: -0.3737851122273459\n"
     ]
    },
    {
     "name": "stdout",
     "output_type": "stream",
     "text": [
      "End position: -0.3259146837818466\n"
     ]
    },
    {
     "name": "stdout",
     "output_type": "stream",
     "text": [
      "End position: -0.1786408830809359\n"
     ]
    },
    {
     "name": "stdout",
     "output_type": "stream",
     "text": [
      "End position: -0.36508991900683074\n"
     ]
    },
    {
     "name": "stdout",
     "output_type": "stream",
     "text": [
      "End position: -0.19577535414821984\n"
     ]
    },
    {
     "name": "stdout",
     "output_type": "stream",
     "text": [
      "End position: -0.1729993474035337\n"
     ]
    },
    {
     "name": "stdout",
     "output_type": "stream",
     "text": [
      "End position: -0.37669478634179016\n"
     ]
    },
    {
     "name": "stdout",
     "output_type": "stream",
     "text": [
      "End position: -0.20431723768424978\n"
     ]
    },
    {
     "name": "stdout",
     "output_type": "stream",
     "text": [
      "End position: -0.34106704506528246\n"
     ]
    },
    {
     "name": "stdout",
     "output_type": "stream",
     "text": [
      "End position: -0.31877487197760673\n"
     ]
    },
    {
     "name": "stdout",
     "output_type": "stream",
     "text": [
      "End position: -0.25167349315792226\n"
     ]
    },
    {
     "name": "stdout",
     "output_type": "stream",
     "text": [
      "End position: -0.19065072946117478\n"
     ]
    },
    {
     "name": "stdout",
     "output_type": "stream",
     "text": [
      "End position: -0.35538697166895733\n"
     ]
    },
    {
     "name": "stdout",
     "output_type": "stream",
     "text": [
      "End position: -0.2696126908532225\n"
     ]
    },
    {
     "name": "stdout",
     "output_type": "stream",
     "text": [
      "End position: -0.32850186978883367\n"
     ]
    },
    {
     "name": "stdout",
     "output_type": "stream",
     "text": [
      "End position: -0.1786479358289356\n"
     ]
    },
    {
     "name": "stdout",
     "output_type": "stream",
     "text": [
      "End position: -0.375219890617959\n"
     ]
    },
    {
     "name": "stdout",
     "output_type": "stream",
     "text": [
      "End position: -0.22131446902529225\n"
     ]
    },
    {
     "name": "stdout",
     "output_type": "stream",
     "text": [
      "End position: -0.2569889789970385\n"
     ]
    },
    {
     "name": "stdout",
     "output_type": "stream",
     "text": [
      "End position: -0.22985554654928372\n"
     ]
    },
    {
     "name": "stdout",
     "output_type": "stream",
     "text": [
      "End position: -0.1955681526921229\n"
     ]
    },
    {
     "name": "stdout",
     "output_type": "stream",
     "text": [
      "End position: -0.2896403444296863\n"
     ]
    },
    {
     "name": "stdout",
     "output_type": "stream",
     "text": [
      "End position: -0.35028853596801335\n"
     ]
    },
    {
     "name": "stdout",
     "output_type": "stream",
     "text": [
      "End position: -0.21328067505131632\n"
     ]
    },
    {
     "name": "stdout",
     "output_type": "stream",
     "text": [
      "End position: -0.3366506216681691\n"
     ]
    },
    {
     "name": "stdout",
     "output_type": "stream",
     "text": [
      "End position: -0.20086096492980754\n"
     ]
    },
    {
     "name": "stdout",
     "output_type": "stream",
     "text": [
      "End position: -0.3125035968027868\n"
     ]
    },
    {
     "name": "stdout",
     "output_type": "stream",
     "text": [
      "End position: -0.3490675229005159\n"
     ]
    },
    {
     "name": "stdout",
     "output_type": "stream",
     "text": [
      "End position: -0.33858642710743503\n"
     ]
    },
    {
     "name": "stdout",
     "output_type": "stream",
     "text": [
      "End position: -0.36328520677314613\n"
     ]
    },
    {
     "name": "stdout",
     "output_type": "stream",
     "text": [
      "End position: -0.23241396350614305\n"
     ]
    },
    {
     "name": "stdout",
     "output_type": "stream",
     "text": [
      "End position: -0.30365888465295604\n"
     ]
    },
    {
     "name": "stdout",
     "output_type": "stream",
     "text": [
      "End position: -0.33234381325601026\n"
     ]
    },
    {
     "name": "stdout",
     "output_type": "stream",
     "text": [
      "End position: -0.24176204319308325\n"
     ]
    },
    {
     "name": "stdout",
     "output_type": "stream",
     "text": [
      "End position: -0.30957393213890816\n"
     ]
    },
    {
     "name": "stdout",
     "output_type": "stream",
     "text": [
      "End position: -0.36269273375025757\n"
     ]
    },
    {
     "name": "stdout",
     "output_type": "stream",
     "text": [
      "End position: -0.3572119206748277\n"
     ]
    },
    {
     "name": "stdout",
     "output_type": "stream",
     "text": [
      "End position: -0.3562360220487142\n"
     ]
    },
    {
     "name": "stdout",
     "output_type": "stream",
     "text": [
      "End position: -0.2954256724727467\n"
     ]
    },
    {
     "name": "stdout",
     "output_type": "stream",
     "text": [
      "End position: -0.35049462550093763\n"
     ]
    },
    {
     "name": "stdout",
     "output_type": "stream",
     "text": [
      "End position: -0.27185889562722887\n"
     ]
    },
    {
     "name": "stdout",
     "output_type": "stream",
     "text": [
      "End position: -0.18962597203313156\n"
     ]
    },
    {
     "name": "stdout",
     "output_type": "stream",
     "text": [
      "End position: -0.3537063093874837\n"
     ]
    },
    {
     "name": "stdout",
     "output_type": "stream",
     "text": [
      "End position: -0.3543266170472509\n"
     ]
    },
    {
     "name": "stdout",
     "output_type": "stream",
     "text": [
      "End position: -0.30347801560434073\n"
     ]
    },
    {
     "name": "stdout",
     "output_type": "stream",
     "text": [
      "End position: -0.318431974186304\n"
     ]
    },
    {
     "name": "stdout",
     "output_type": "stream",
     "text": [
      "End position: -0.3627355204453187\n"
     ]
    },
    {
     "name": "stdout",
     "output_type": "stream",
     "text": [
      "End position: -0.2861339677331947\n"
     ]
    },
    {
     "name": "stdout",
     "output_type": "stream",
     "text": [
      "End position: -0.33968048237306836\n"
     ]
    },
    {
     "name": "stdout",
     "output_type": "stream",
     "text": [
      "End position: -0.3244441718339566\n"
     ]
    },
    {
     "name": "stdout",
     "output_type": "stream",
     "text": [
      "End position: -0.29571282471516164\n"
     ]
    },
    {
     "name": "stdout",
     "output_type": "stream",
     "text": [
      "End position: -0.3565490360535902\n"
     ]
    },
    {
     "name": "stdout",
     "output_type": "stream",
     "text": [
      "End position: -0.17709899358062947\n"
     ]
    },
    {
     "name": "stdout",
     "output_type": "stream",
     "text": [
      "End position: -0.2955915579324977\n"
     ]
    },
    {
     "name": "stdout",
     "output_type": "stream",
     "text": [
      "End position: -0.2837313832966929\n"
     ]
    },
    {
     "ename": "KeyboardInterrupt",
     "evalue": "",
     "traceback": [
      "\u001b[0;31m---------------------------------------------------------------------------\u001b[0m",
      "\u001b[0;31mKeyboardInterrupt\u001b[0m                         Traceback (most recent call last)",
      "\u001b[0;32m<ipython-input-7-d7388d56d91f>\u001b[0m in \u001b[0;36m<module>\u001b[0;34m\u001b[0m\n\u001b[1;32m     19\u001b[0m             \u001b[0mstate\u001b[0m \u001b[0;34m=\u001b[0m \u001b[0menv\u001b[0m\u001b[0;34m.\u001b[0m\u001b[0mreset\u001b[0m\u001b[0;34m(\u001b[0m\u001b[0;34m)\u001b[0m\u001b[0;34m\u001b[0m\u001b[0m\n\u001b[1;32m     20\u001b[0m             \u001b[0;32mfor\u001b[0m \u001b[0ms\u001b[0m \u001b[0;32min\u001b[0m \u001b[0mnp\u001b[0m\u001b[0;34m.\u001b[0m\u001b[0marange\u001b[0m\u001b[0;34m(\u001b[0m\u001b[0mmax_steps\u001b[0m\u001b[0;34m)\u001b[0m\u001b[0;34m:\u001b[0m\u001b[0;34m\u001b[0m\u001b[0m\n\u001b[0;32m---> 21\u001b[0;31m                 \u001b[0maction\u001b[0m \u001b[0;34m=\u001b[0m \u001b[0mnet\u001b[0m\u001b[0;34m.\u001b[0m\u001b[0mget_action\u001b[0m\u001b[0;34m(\u001b[0m\u001b[0mstate\u001b[0m\u001b[0;34m)\u001b[0m\u001b[0;34m\u001b[0m\u001b[0m\n\u001b[0m\u001b[1;32m     22\u001b[0m                 \u001b[0mnext_state\u001b[0m\u001b[0;34m,\u001b[0m \u001b[0m_\u001b[0m\u001b[0;34m,\u001b[0m \u001b[0mdone\u001b[0m\u001b[0;34m,\u001b[0m \u001b[0m_\u001b[0m \u001b[0;34m=\u001b[0m \u001b[0menv\u001b[0m\u001b[0;34m.\u001b[0m\u001b[0mstep\u001b[0m\u001b[0;34m(\u001b[0m\u001b[0maction\u001b[0m\u001b[0;34m)\u001b[0m\u001b[0;34m\u001b[0m\u001b[0m\n\u001b[1;32m     23\u001b[0m                 \u001b[0mmodified_reward\u001b[0m \u001b[0;34m=\u001b[0m \u001b[0mcompute_modified_reward\u001b[0m\u001b[0;34m(\u001b[0m\u001b[0mnext_state\u001b[0m\u001b[0;34m)\u001b[0m\u001b[0;34m\u001b[0m\u001b[0m\n",
      "\u001b[0;32m<ipython-input-4-3b019f77a879>\u001b[0m in \u001b[0;36mget_action\u001b[0;34m(self, state)\u001b[0m\n\u001b[1;32m     59\u001b[0m     \u001b[0;32mdef\u001b[0m \u001b[0mget_action\u001b[0m\u001b[0;34m(\u001b[0m\u001b[0mself\u001b[0m\u001b[0;34m,\u001b[0m \u001b[0mstate\u001b[0m\u001b[0;34m)\u001b[0m\u001b[0;34m:\u001b[0m\u001b[0;34m\u001b[0m\u001b[0m\n\u001b[1;32m     60\u001b[0m         \u001b[0mfeed_dict\u001b[0m \u001b[0;34m=\u001b[0m \u001b[0;34m{\u001b[0m \u001b[0mself\u001b[0m\u001b[0;34m.\u001b[0m\u001b[0mstates\u001b[0m \u001b[0;34m:\u001b[0m \u001b[0mnp\u001b[0m\u001b[0;34m.\u001b[0m\u001b[0marray\u001b[0m\u001b[0;34m(\u001b[0m\u001b[0;34m[\u001b[0m\u001b[0mstate\u001b[0m\u001b[0;34m]\u001b[0m\u001b[0;34m)\u001b[0m \u001b[0;34m}\u001b[0m\u001b[0;34m\u001b[0m\u001b[0m\n\u001b[0;32m---> 61\u001b[0;31m         \u001b[0mprobabilities\u001b[0m \u001b[0;34m=\u001b[0m \u001b[0msess\u001b[0m\u001b[0;34m.\u001b[0m\u001b[0mrun\u001b[0m\u001b[0;34m(\u001b[0m\u001b[0mself\u001b[0m\u001b[0;34m.\u001b[0m\u001b[0mprobabilities\u001b[0m\u001b[0;34m,\u001b[0m \u001b[0mfeed_dict\u001b[0m \u001b[0;34m=\u001b[0m \u001b[0mfeed_dict\u001b[0m\u001b[0;34m)\u001b[0m\u001b[0;34m\u001b[0m\u001b[0m\n\u001b[0m\u001b[1;32m     62\u001b[0m \u001b[0;34m\u001b[0m\u001b[0m\n\u001b[1;32m     63\u001b[0m         \u001b[0;32mreturn\u001b[0m \u001b[0mnp\u001b[0m\u001b[0;34m.\u001b[0m\u001b[0mrandom\u001b[0m\u001b[0;34m.\u001b[0m\u001b[0mchoice\u001b[0m\u001b[0;34m(\u001b[0m\u001b[0maction_size\u001b[0m\u001b[0;34m,\u001b[0m \u001b[0mp\u001b[0m\u001b[0;34m=\u001b[0m\u001b[0mprobabilities\u001b[0m\u001b[0;34m[\u001b[0m\u001b[0;36m0\u001b[0m\u001b[0;34m]\u001b[0m\u001b[0;34m)\u001b[0m\u001b[0;34m\u001b[0m\u001b[0m\n",
      "\u001b[0;32m/Library/Frameworks/Python.framework/Versions/3.6/lib/python3.6/site-packages/tensorflow/python/client/session.py\u001b[0m in \u001b[0;36mrun\u001b[0;34m(self, fetches, feed_dict, options, run_metadata)\u001b[0m\n\u001b[1;32m    927\u001b[0m     \u001b[0;32mtry\u001b[0m\u001b[0;34m:\u001b[0m\u001b[0;34m\u001b[0m\u001b[0m\n\u001b[1;32m    928\u001b[0m       result = self._run(None, fetches, feed_dict, options_ptr,\n\u001b[0;32m--> 929\u001b[0;31m                          run_metadata_ptr)\n\u001b[0m\u001b[1;32m    930\u001b[0m       \u001b[0;32mif\u001b[0m \u001b[0mrun_metadata\u001b[0m\u001b[0;34m:\u001b[0m\u001b[0;34m\u001b[0m\u001b[0m\n\u001b[1;32m    931\u001b[0m         \u001b[0mproto_data\u001b[0m \u001b[0;34m=\u001b[0m \u001b[0mtf_session\u001b[0m\u001b[0;34m.\u001b[0m\u001b[0mTF_GetBuffer\u001b[0m\u001b[0;34m(\u001b[0m\u001b[0mrun_metadata_ptr\u001b[0m\u001b[0;34m)\u001b[0m\u001b[0;34m\u001b[0m\u001b[0m\n",
      "\u001b[0;32m/Library/Frameworks/Python.framework/Versions/3.6/lib/python3.6/site-packages/tensorflow/python/client/session.py\u001b[0m in \u001b[0;36m_run\u001b[0;34m(self, handle, fetches, feed_dict, options, run_metadata)\u001b[0m\n\u001b[1;32m   1150\u001b[0m     \u001b[0;32mif\u001b[0m \u001b[0mfinal_fetches\u001b[0m \u001b[0;32mor\u001b[0m \u001b[0mfinal_targets\u001b[0m \u001b[0;32mor\u001b[0m \u001b[0;34m(\u001b[0m\u001b[0mhandle\u001b[0m \u001b[0;32mand\u001b[0m \u001b[0mfeed_dict_tensor\u001b[0m\u001b[0;34m)\u001b[0m\u001b[0;34m:\u001b[0m\u001b[0;34m\u001b[0m\u001b[0m\n\u001b[1;32m   1151\u001b[0m       results = self._do_run(handle, final_targets, final_fetches,\n\u001b[0;32m-> 1152\u001b[0;31m                              feed_dict_tensor, options, run_metadata)\n\u001b[0m\u001b[1;32m   1153\u001b[0m     \u001b[0;32melse\u001b[0m\u001b[0;34m:\u001b[0m\u001b[0;34m\u001b[0m\u001b[0m\n\u001b[1;32m   1154\u001b[0m       \u001b[0mresults\u001b[0m \u001b[0;34m=\u001b[0m \u001b[0;34m[\u001b[0m\u001b[0;34m]\u001b[0m\u001b[0;34m\u001b[0m\u001b[0m\n",
      "\u001b[0;32m/Library/Frameworks/Python.framework/Versions/3.6/lib/python3.6/site-packages/tensorflow/python/client/session.py\u001b[0m in \u001b[0;36m_do_run\u001b[0;34m(self, handle, target_list, fetch_list, feed_dict, options, run_metadata)\u001b[0m\n\u001b[1;32m   1326\u001b[0m     \u001b[0;32mif\u001b[0m \u001b[0mhandle\u001b[0m \u001b[0;32mis\u001b[0m \u001b[0;32mNone\u001b[0m\u001b[0;34m:\u001b[0m\u001b[0;34m\u001b[0m\u001b[0m\n\u001b[1;32m   1327\u001b[0m       return self._do_call(_run_fn, feeds, fetches, targets, options,\n\u001b[0;32m-> 1328\u001b[0;31m                            run_metadata)\n\u001b[0m\u001b[1;32m   1329\u001b[0m     \u001b[0;32melse\u001b[0m\u001b[0;34m:\u001b[0m\u001b[0;34m\u001b[0m\u001b[0m\n\u001b[1;32m   1330\u001b[0m       \u001b[0;32mreturn\u001b[0m \u001b[0mself\u001b[0m\u001b[0;34m.\u001b[0m\u001b[0m_do_call\u001b[0m\u001b[0;34m(\u001b[0m\u001b[0m_prun_fn\u001b[0m\u001b[0;34m,\u001b[0m \u001b[0mhandle\u001b[0m\u001b[0;34m,\u001b[0m \u001b[0mfeeds\u001b[0m\u001b[0;34m,\u001b[0m \u001b[0mfetches\u001b[0m\u001b[0;34m)\u001b[0m\u001b[0;34m\u001b[0m\u001b[0m\n",
      "\u001b[0;32m/Library/Frameworks/Python.framework/Versions/3.6/lib/python3.6/site-packages/tensorflow/python/client/session.py\u001b[0m in \u001b[0;36m_do_call\u001b[0;34m(self, fn, *args)\u001b[0m\n\u001b[1;32m   1332\u001b[0m   \u001b[0;32mdef\u001b[0m \u001b[0m_do_call\u001b[0m\u001b[0;34m(\u001b[0m\u001b[0mself\u001b[0m\u001b[0;34m,\u001b[0m \u001b[0mfn\u001b[0m\u001b[0;34m,\u001b[0m \u001b[0;34m*\u001b[0m\u001b[0margs\u001b[0m\u001b[0;34m)\u001b[0m\u001b[0;34m:\u001b[0m\u001b[0;34m\u001b[0m\u001b[0m\n\u001b[1;32m   1333\u001b[0m     \u001b[0;32mtry\u001b[0m\u001b[0;34m:\u001b[0m\u001b[0;34m\u001b[0m\u001b[0m\n\u001b[0;32m-> 1334\u001b[0;31m       \u001b[0;32mreturn\u001b[0m \u001b[0mfn\u001b[0m\u001b[0;34m(\u001b[0m\u001b[0;34m*\u001b[0m\u001b[0margs\u001b[0m\u001b[0;34m)\u001b[0m\u001b[0;34m\u001b[0m\u001b[0m\n\u001b[0m\u001b[1;32m   1335\u001b[0m     \u001b[0;32mexcept\u001b[0m \u001b[0merrors\u001b[0m\u001b[0;34m.\u001b[0m\u001b[0mOpError\u001b[0m \u001b[0;32mas\u001b[0m \u001b[0me\u001b[0m\u001b[0;34m:\u001b[0m\u001b[0;34m\u001b[0m\u001b[0m\n\u001b[1;32m   1336\u001b[0m       \u001b[0mmessage\u001b[0m \u001b[0;34m=\u001b[0m \u001b[0mcompat\u001b[0m\u001b[0;34m.\u001b[0m\u001b[0mas_text\u001b[0m\u001b[0;34m(\u001b[0m\u001b[0me\u001b[0m\u001b[0;34m.\u001b[0m\u001b[0mmessage\u001b[0m\u001b[0;34m)\u001b[0m\u001b[0;34m\u001b[0m\u001b[0m\n",
      "\u001b[0;32m/Library/Frameworks/Python.framework/Versions/3.6/lib/python3.6/site-packages/tensorflow/python/client/session.py\u001b[0m in \u001b[0;36m_run_fn\u001b[0;34m(feed_dict, fetch_list, target_list, options, run_metadata)\u001b[0m\n\u001b[1;32m   1317\u001b[0m       \u001b[0mself\u001b[0m\u001b[0;34m.\u001b[0m\u001b[0m_extend_graph\u001b[0m\u001b[0;34m(\u001b[0m\u001b[0;34m)\u001b[0m\u001b[0;34m\u001b[0m\u001b[0m\n\u001b[1;32m   1318\u001b[0m       return self._call_tf_sessionrun(\n\u001b[0;32m-> 1319\u001b[0;31m           options, feed_dict, fetch_list, target_list, run_metadata)\n\u001b[0m\u001b[1;32m   1320\u001b[0m \u001b[0;34m\u001b[0m\u001b[0m\n\u001b[1;32m   1321\u001b[0m     \u001b[0;32mdef\u001b[0m \u001b[0m_prun_fn\u001b[0m\u001b[0;34m(\u001b[0m\u001b[0mhandle\u001b[0m\u001b[0;34m,\u001b[0m \u001b[0mfeed_dict\u001b[0m\u001b[0;34m,\u001b[0m \u001b[0mfetch_list\u001b[0m\u001b[0;34m)\u001b[0m\u001b[0;34m:\u001b[0m\u001b[0;34m\u001b[0m\u001b[0m\n",
      "\u001b[0;32m/Library/Frameworks/Python.framework/Versions/3.6/lib/python3.6/site-packages/tensorflow/python/client/session.py\u001b[0m in \u001b[0;36m_call_tf_sessionrun\u001b[0;34m(self, options, feed_dict, fetch_list, target_list, run_metadata)\u001b[0m\n\u001b[1;32m   1405\u001b[0m     return tf_session.TF_SessionRun_wrapper(\n\u001b[1;32m   1406\u001b[0m         \u001b[0mself\u001b[0m\u001b[0;34m.\u001b[0m\u001b[0m_session\u001b[0m\u001b[0;34m,\u001b[0m \u001b[0moptions\u001b[0m\u001b[0;34m,\u001b[0m \u001b[0mfeed_dict\u001b[0m\u001b[0;34m,\u001b[0m \u001b[0mfetch_list\u001b[0m\u001b[0;34m,\u001b[0m \u001b[0mtarget_list\u001b[0m\u001b[0;34m,\u001b[0m\u001b[0;34m\u001b[0m\u001b[0m\n\u001b[0;32m-> 1407\u001b[0;31m         run_metadata)\n\u001b[0m\u001b[1;32m   1408\u001b[0m \u001b[0;34m\u001b[0m\u001b[0m\n\u001b[1;32m   1409\u001b[0m   \u001b[0;32mdef\u001b[0m \u001b[0m_call_tf_sessionprun\u001b[0m\u001b[0;34m(\u001b[0m\u001b[0mself\u001b[0m\u001b[0;34m,\u001b[0m \u001b[0mhandle\u001b[0m\u001b[0;34m,\u001b[0m \u001b[0mfeed_dict\u001b[0m\u001b[0;34m,\u001b[0m \u001b[0mfetch_list\u001b[0m\u001b[0;34m)\u001b[0m\u001b[0;34m:\u001b[0m\u001b[0;34m\u001b[0m\u001b[0m\n",
      "\u001b[0;31mKeyboardInterrupt\u001b[0m: "
     ],
     "output_type": "error"
    }
   ],
   "source": [
    "import random\n",
    "import bisect\n",
    "import time\n",
    "\n",
    "with tf.Session() as sess:\n",
    "\n",
    "    sess.run(tf.global_variables_initializer())\n",
    "    \n",
    "    start_index = int(max_episodes * percentile / 100)\n",
    "    \n",
    "    while True:\n",
    "\n",
    "        total_reward_list = []\n",
    "        trajectory_list = []\n",
    "\n",
    "        for e in np.arange(max_episodes):\n",
    "            total_reward = 0.0\n",
    "            trajectory = []\n",
    "            state = env.reset()\n",
    "            for s in np.arange(max_steps):\n",
    "                action = net.get_action(state)\n",
    "                next_state, _, done, _ = env.step(action)\n",
    "                modified_reward = compute_modified_reward(next_state)\n",
    "                total_reward += modified_reward\n",
    "                trajectory.append((state, action))\n",
    "                state = next_state\n",
    "                if done: break\n",
    "\n",
    "            index = bisect.bisect(total_reward_list, total_reward)\n",
    "            total_reward_list.insert(index, total_reward)\n",
    "            trajectory_list.insert(index, trajectory)\n",
    "        \n",
    "        # keep the elite episodes, that is, throw out the bad ones \n",
    "        # train on state action pairs extracted from the elite episodes\n",
    "        # this code is not optimized, it can be cleaned up \n",
    "        state_action_pairs = []\n",
    "        for trajectory in trajectory_list[start_index:]:\n",
    "            for state_action_pair in trajectory:\n",
    "                state_action_pairs.append(state_action_pair)\n",
    "        # shuffle to avoid correlations between adjacent states\n",
    "        random.shuffle(state_action_pairs) \n",
    "        n = len(state_action_pairs)\n",
    "        batches = [state_action_pairs[k:k + batch_size] for k in np.arange(0, n, batch_size)]\n",
    "\n",
    "        for batch in batches:\n",
    "            net.train(batch)\n",
    "\n",
    "        # test agent\n",
    "        state = env.reset()\n",
    "        # env.render()\n",
    "        # time.sleep(0.05)\n",
    "        total_reward = 0.0\n",
    "        for s in np.arange(max_steps):\n",
    "            action = net.get_action(state)\n",
    "            # state, reward, done, _ = env.step(action)\n",
    "            # total_reward += reward\n",
    "            state, _, done, _ = env.step(action)\n",
    "            modified_reward = compute_modified_reward(state)\n",
    "            total_reward += modified_reward\n",
    "            # env.render()\n",
    "            # time.sleep(0.05)\n",
    "            if done: break\n",
    "\n",
    "        env.close()\n",
    "        print(\"End position:\", state[0])\n",
    "        \n",
    "        if state[0] >= 0.5:\n",
    "            break    "
   ]
  },
  {
   "cell_type": "code",
   "execution_count": 8,
   "metadata": {},
   "outputs": [],
   "source": []
  }
 ],
 "metadata": {
  "kernelspec": {
   "display_name": "Python 3",
   "language": "python",
   "name": "python3"
  },
  "language_info": {
   "codemirror_mode": {
    "name": "ipython",
    "version": 3
   },
   "file_extension": ".py",
   "mimetype": "text/x-python",
   "name": "python",
   "nbconvert_exporter": "python",
   "pygments_lexer": "ipython3",
   "version": "3.6.5"
  }
 },
 "nbformat": 4,
 "nbformat_minor": 2
}
