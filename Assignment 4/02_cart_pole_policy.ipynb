{
 "cells": [
  {
   "cell_type": "code",
   "execution_count": 2,
   "metadata": {
    "collapsed": true
   },
   "outputs": [],
   "source": [
    "import gym\n",
    "\n",
    "import math\n",
    "%matplotlib inline\n",
    "import matplotlib.pyplot as plt\n"
   ]
  },
  {
   "cell_type": "code",
   "execution_count": 3,
   "metadata": {},
   "outputs": [],
   "source": [
    "# Create the Cart-Pole game environment\n",
    "env = gym.make('CartPole-v1')\n"
   ]
  },
  {
   "cell_type": "code",
   "execution_count": 4,
   "metadata": {},
   "outputs": [],
   "source": [
    "gravity = 9.8\n",
    "masscart = 1.0\n",
    "masspole = 0.1\n",
    "total_mass = (masspole + masscart)\n",
    "length = 0.5 # actually half the pole's length\n",
    "polemass_length = (masspole * length)\n",
    "force_mag = 10.0\n",
    "tau = 0.02 \n",
    "kinematics_integrator = 'euler'\n",
    "theta_threshold_radians = 12 * 2 * math.pi / 360"
   ]
  },
  {
   "cell_type": "code",
   "execution_count": 5,
   "metadata": {},
   "outputs": [],
   "source": [
    "def nextStep(state, action):    # calculate next state status\n",
    "    \n",
    "    x, x_dot, theta, theta_dot = state\n",
    "    force = force_mag if action == 1 else -force_mag\n",
    "    costheta = math.cos(theta)\n",
    "    sintheta = math.sin(theta)\n",
    "    temp = (force + polemass_length * theta_dot * theta_dot * sintheta) / total_mass\n",
    "    thetaacc = (gravity * sintheta - costheta* temp) / (length * (4.0/3.0 - masspole * costheta * costheta / total_mass))\n",
    "    xacc  = temp - polemass_length * thetaacc * costheta / total_mass\n",
    "    if kinematics_integrator == 'euler':\n",
    "        x  = x + tau * x_dot\n",
    "        x_dot = x_dot + tau * xacc\n",
    "        theta = theta + tau * theta_dot\n",
    "        theta_dot = theta_dot + tau * thetaacc\n",
    "    else: # semi-implicit euler\n",
    "        x_dot = x_dot + tau * xacc\n",
    "        x  = x + tau * x_dot\n",
    "        theta_dot = theta_dot + tau * thetaacc\n",
    "        theta = theta + tau * theta_dot\n",
    "    state = (x, x_dot, theta, theta_dot)\n",
    "    \n",
    "    return state\n"
   ]
  },
  {
   "cell_type": "code",
   "execution_count": 6,
   "metadata": {},
   "outputs": [],
   "source": [
    "def safeSpeedCheck(state):      # check if the current speed can be slowed down before out of border\n",
    "    nextState = state\n",
    "    if nextState[1] <= 0:\n",
    "        while nextState[1] <= 0:\n",
    "            nextState = nextStep(nextState, 1)\n",
    "    else:\n",
    "        while nextState[1] >= 0:\n",
    "            nextState = nextStep(nextState, 0)\n",
    "        \n",
    "    if abs(nextState[0]) < 2.4:\n",
    "        return True\n",
    "    else:\n",
    "        return False "
   ]
  },
  {
   "cell_type": "code",
   "execution_count": 7,
   "metadata": {},
   "outputs": [],
   "source": [
    "def safeAngleCheck(state):      # check if the pole angle can be corrected before out of range\n",
    "    nextState = state\n",
    "    if nextState[2] <= 0:\n",
    "        while nextState[2] <= 0:\n",
    "            nextState = nextStep(nextState, 0)\n",
    "            if nextState[2] <= - theta_threshold_radians:\n",
    "                return False\n",
    "    else:    \n",
    "        while nextState[2] >= 0:\n",
    "            nextState = nextStep(nextState, 1)\n",
    "            if nextState[2] >= theta_threshold_radians:\n",
    "                return False\n",
    "        \n",
    "    return True"
   ]
  },
  {
   "cell_type": "code",
   "execution_count": 10,
   "metadata": {},
   "outputs": [
    {
     "name": "stdout",
     "output_type": "stream",
     "text": [
      "Percentage of reward over 200 in 500 games 0.766\n"
     ]
    }
   ],
   "source": [
    "count = 0\n",
    "for i in range(500):\n",
    "    next_state = env.reset()\n",
    "    env.render()\n",
    "    score = 0\n",
    "    done = False\n",
    "    while not done:\n",
    "        next_state_l = nextStep(next_state, 0)      # calculate state if go left\n",
    "        next_state_r = nextStep(next_state, 1)      # calculate state if go right\n",
    "        if not safeSpeedCheck(next_state_l):        # check if go left get in to unstoppable speed\n",
    "            next_state, reward, done, _ = env.step(1)\n",
    "            score += 1\n",
    "            if score >= 200:\n",
    "                done = True\n",
    "            continue\n",
    "        \n",
    "        if not safeSpeedCheck(next_state_r):        # check if go right get in to unstoppable speed\n",
    "            next_state, reward, done, _ = env.step(0)\n",
    "            score += 1\n",
    "            if score >= 200:\n",
    "                done = True\n",
    "            continue\n",
    "        \n",
    "        if not safeAngleCheck(next_state_l):        # check if go left, can the pole still be corrected\n",
    "            next_state, reward, done, _ = env.step(1)\n",
    "            score += 1\n",
    "            if score >= 200:\n",
    "                done = True\n",
    "            continue\n",
    "        \n",
    "        if not safeAngleCheck(next_state_r):        # check if go right, can the pole still be corrected\n",
    "            next_state, reward, done, _ = env.step(0)\n",
    "            score += 1\n",
    "            if score >= 200:\n",
    "                done = True\n",
    "            continue\n",
    "            \n",
    "        # compare two state, pick the one with less pole angle\n",
    "        if abs(next_state_l[2]) < abs(next_state_r[2]): \n",
    "            next_state, reward, done, _ = env.step(0)\n",
    "        elif abs(next_state_l[2]) > abs(next_state_r[2]):\n",
    "            next_state, reward, done, _ = env.step(1)\n",
    "        # if pole angles are equal, pick the one with less pole velocity\n",
    "        else:\n",
    "            if abs(next_state_l[3]) < abs(next_state_r[3]):\n",
    "                next_state, reward, done, _ = env.step(0)\n",
    "            else:\n",
    "                next_state, reward, done, _ = env.step(1)\n",
    "                \n",
    "        score += 1\n",
    "        if score >= 200:\n",
    "            done = True\n",
    "    \n",
    "    # if score < 200:\n",
    "    #     print(next_state)\n",
    "    #     print(score)\n",
    "    if score >= 200:\n",
    "        count += 1\n",
    "\n",
    "env.close()\n",
    "print(\"Percentage of reward over 200 in 500 games\", count/500)"
   ]
  },
  {
   "cell_type": "markdown",
   "metadata": {},
   "source": [
    ""
   ]
  },
  {
   "cell_type": "heading",
   "metadata": {},
   "level": 2,
   "source": [
    "Policy explanation\n",
    "Defiend 2 safety check function, speed safety and pole angle safety.\n",
    "Speed safety check if the current speed can be slowed down before out of border(<-2.4 or > 2.4)\n",
    "pole angle safety check if the pole angle can be corrected before out of range(+-theta_threshold_radians)\n",
    "\n",
    "Defined calculate next state status function, get exactly date of next state before execute.\n",
    "Base on the pre-calculate next state date on both left and right, fisrt check 2 safety check function for each action(left, right). If both action are safe to do, then compare the pole angle to deside go left or right.\n",
    "If the pole angle are the same, pick the lower pole velocity action.\n",
    "\n",
    "The average game reward over 200 in 500 games is about 75%.\n"
   ]
  },
  {
   "cell_type": "heading",
   "metadata": {},
   "level": 1,
   "source": []
  }
 ],
 "metadata": {
  "kernelspec": {
   "display_name": "Python 2",
   "language": "python",
   "name": "python2"
  },
  "language_info": {
   "codemirror_mode": {
    "name": "ipython",
    "version": 2
   },
   "file_extension": ".py",
   "mimetype": "text/x-python",
   "name": "python",
   "nbconvert_exporter": "python",
   "pygments_lexer": "ipython2",
   "version": "2.7.6"
  }
 },
 "nbformat": 4,
 "nbformat_minor": 0
}
