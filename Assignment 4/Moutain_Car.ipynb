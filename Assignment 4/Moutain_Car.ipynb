{
 "cells": [
  {
   "cell_type": "code",
   "execution_count": 20,
   "metadata": {
    "collapsed": true
   },
   "outputs": [],
   "source": [
    "import gym\n",
    "import numpy as np\n",
    "\n",
    "%matplotlib inline\n",
    "import matplotlib.pyplot as plt\n",
    "\n",
    "import time"
   ]
  },
  {
   "cell_type": "code",
   "execution_count": 21,
   "metadata": {},
   "outputs": [
    {
     "name": "stdout",
     "output_type": "stream",
     "text": [
      "\u001b[33mWARN: gym.spaces.Box autodetected dtype as <class 'numpy.float32'>. Please provide explicit dtype.\u001b[0m\n"
     ]
    }
   ],
   "source": [
    "env = gym.make(\"MountainCar-v0\")"
   ]
  },
  {
   "cell_type": "code",
   "execution_count": 22,
   "metadata": {},
   "outputs": [
    {
     "name": "stdout",
     "output_type": "stream",
     "text": [
      "0\n(array([-0.50746124,  0.00088565]), -1.0, False, {})\n1\n(array([-0.50569658,  0.00176467]), -1.0, False, {})\n2\n(array([-0.50306611,  0.00263046]), -1.0, False, {})\n3\n(array([-0.49958954,  0.00347657]), -1.0, False, {})\n4\n(array([-0.49529289,  0.00429665]), -1.0, False, {})\n5\n(array([-0.49020828,  0.00508461]), -1.0, False, {})\n6\n(array([-0.48437367,  0.0058346 ]), -1.0, False, {})\n7\n(array([-0.47783258,  0.00654109]), -1.0, False, {})\n8\n(array([-0.47063365,  0.00719893]), -1.0, False, {})\n9\n(array([-0.4628303 ,  0.00780336]), -1.0, False, {})\n10\n(array([-0.45448018,  0.00835011]), -1.0, False, {})\n11\n(array([-0.44564475,  0.00883543]), -1.0, False, {})\n12\n(array([-0.43638866,  0.00925609]), -1.0, False, {})\n"
     ]
    },
    {
     "name": "stdout",
     "output_type": "stream",
     "text": [
      "13\n(array([-0.42677921,  0.00960945]), -1.0, False, {})\n14\n(array([-0.41688574,  0.00989347]), -1.0, False, {})\n15\n(array([-0.40677902,  0.01010672]), -1.0, False, {})\n16\n(array([-0.39653061,  0.0102484 ]), -1.0, False, {})\n17\n(array([-0.38621231,  0.0103183 ]), -1.0, False, {})\n18\n(array([-0.37589548,  0.01031683]), -1.0, False, {})\n19\n(array([-0.36565052,  0.01024496]), -1.0, False, {})\n20\n(array([-0.35554634,  0.01010418]), -1.0, False, {})\n21\n(array([-0.34564984,  0.0098965 ]), -1.0, False, {})\n22\n(array([-0.33602546,  0.00962438]), -1.0, False, {})\n23\n(array([-0.3267348 ,  0.00929066]), -1.0, False, {})\n24\n(array([-0.31783627,  0.00889853]), -1.0, False, {})\n25\n(array([-0.3093848 ,  0.00845146]), -1.0, False, {})\n"
     ]
    },
    {
     "name": "stdout",
     "output_type": "stream",
     "text": [
      "26\n(array([-0.30143162,  0.00795318]), -1.0, False, {})\n27\n(array([-0.29402404,  0.00740758]), -1.0, False, {})\n28\n(array([-0.28720533,  0.0068187 ]), -1.0, False, {})\n29\n(array([-0.28101466,  0.00619067]), -1.0, False, {})\n30\n(array([-0.27548697,  0.00552769]), -1.0, False, {})\n31\n(array([-0.27065299,  0.00483398]), -1.0, False, {})\n32\n(array([-0.2665392 ,  0.00411379]), -1.0, False, {})\n33\n(array([-0.26316787,  0.00337133]), -1.0, False, {})\n34\n(array([-0.26055703,  0.00261084]), -1.0, False, {})\n35\n(array([-0.25872054,  0.0018365 ]), -1.0, False, {})\n36\n(array([-0.25766806,  0.00105248]), -1.0, False, {})\n37\n(array([-0.25740512,  0.00026294]), -1.0, False, {})\n"
     ]
    },
    {
     "name": "stdout",
     "output_type": "stream",
     "text": [
      "38\n(array([-0.2579331 , -0.00052798]), -1.0, False, {})\n39\n(array([-0.25924924, -0.00131613]), -1.0, False, {})\n0\n(array([-0.26234661, -0.00309737]), -1.0, False, {})\n1\n(array([-0.26720884, -0.00486223]), -1.0, False, {})\n2\n(array([-0.27380992, -0.00660108]), -1.0, False, {})\n3\n(array([-0.28211394, -0.00830402]), -1.0, False, {})\n4\n(array([-0.29207478, -0.00996084]), -1.0, False, {})\n5\n(array([-0.30363576, -0.01156098]), -1.0, False, {})\n6\n(array([-0.31672931, -0.01309355]), -1.0, False, {})\n7\n(array([-0.33127669, -0.01454738]), -1.0, False, {})\n8\n(array([-0.34718777, -0.01591109]), -1.0, False, {})\n9\n(array([-0.36436104, -0.01717327]), -1.0, False, {})\n10\n(array([-0.38268368, -0.01832264]), -1.0, False, {})\n"
     ]
    },
    {
     "name": "stdout",
     "output_type": "stream",
     "text": [
      "11\n(array([-0.40203198, -0.0193483 ]), -1.0, False, {})\n12\n(array([-0.42227196, -0.02023998]), -1.0, False, {})\n13\n(array([-0.44326024, -0.02098828]), -1.0, False, {})\n14\n(array([-0.46484524, -0.021585  ]), -1.0, False, {})\n15\n(array([-0.48686861, -0.02202337]), -1.0, False, {})\n16\n(array([-0.5091669 , -0.02229829]), -1.0, False, {})\n17\n(array([-0.5315734, -0.0224065]), -1.0, False, {})\n18\n(array([-0.5539201 , -0.02234669]), -1.0, False, {})\n19\n(array([-0.57603969, -0.0221196 ]), -1.0, False, {})\n20\n(array([-0.59776761, -0.02172791]), -1.0, False, {})\n21\n(array([-0.61894383, -0.02117622]), -1.0, False, {})\n22\n(array([-0.63941468, -0.02047085]), -1.0, False, {})\n23\n(array([-0.65903428, -0.0196196 ]), -1.0, False, {})\n"
     ]
    },
    {
     "name": "stdout",
     "output_type": "stream",
     "text": [
      "24\n(array([-0.67766583, -0.01863155]), -1.0, False, {})\n25\n(array([-0.69518258, -0.01751675]), -1.0, False, {})\n26\n(array([-0.71146854, -0.01628596]), -1.0, False, {})\n27\n(array([-0.72641889, -0.01495035]), -1.0, False, {})\n28\n(array([-0.73994023, -0.01352134]), -1.0, False, {})\n29\n(array([-0.75195055, -0.01201032]), -1.0, False, {})\n30\n(array([-0.76237908, -0.01042853]), -1.0, False, {})\n31\n(array([-0.77116604, -0.00878696]), -1.0, False, {})\n32\n(array([-0.77826229, -0.00709625]), -1.0, False, {})\n33\n(array([-0.78362903, -0.00536673]), -1.0, False, {})\n34\n(array([-0.7872374 , -0.00360837]), -1.0, False, {})\n35\n(array([-0.78906828, -0.00183088]), -1.0, False, {})\n36\n(array([-7.89112036e-01, -4.37563503e-05]), -1.0, False, {})\n"
     ]
    },
    {
     "name": "stdout",
     "output_type": "stream",
     "text": [
      "37\n(array([-0.78736844,  0.0017436 ]), -1.0, False, {})\n38\n(array([-0.78384666,  0.00352178]), -1.0, False, {})\n39\n(array([-0.77856536,  0.0052813 ]), -1.0, False, {})\n0\n(array([-0.77055289,  0.00801246]), -1.0, False, {})\n1\n(array([-0.75985312,  0.01069977]), -1.0, False, {})\n2\n(array([-0.74652611,  0.01332701]), -1.0, False, {})\n3\n(array([-0.73064902,  0.01587709]), -1.0, False, {})\n4\n(array([-0.712317  ,  0.01833202]), -1.0, False, {})\n5\n(array([-0.69164401,  0.02067299]), -1.0, False, {})\n6\n(array([-0.66876339,  0.02288062]), -1.0, False, {})\n7\n(array([-0.64382812,  0.02493527]), -1.0, False, {})\n8\n(array([-0.61701056,  0.02681756]), -1.0, False, {})\n9\n(array([-0.58850154,  0.02850902]), -1.0, False, {})\n"
     ]
    },
    {
     "name": "stdout",
     "output_type": "stream",
     "text": [
      "10\n(array([-0.55850883,  0.02999272]), -1.0, False, {})\n11\n(array([-0.52725476,  0.03125406]), -1.0, False, {})\n12\n(array([-0.49497328,  0.03228148]), -1.0, False, {})\n13\n(array([-0.46190622,  0.03306706]), -1.0, False, {})\n14\n(array([-0.42829922,  0.033607  ]), -1.0, False, {})\n15\n(array([-0.39439727,  0.03390195]), -1.0, False, {})\n16\n(array([-0.36044025,  0.03395702]), -1.0, False, {})\n17\n(array([-0.32665864,  0.03378161]), -1.0, False, {})\n18\n(array([-0.29326963,  0.03338901]), -1.0, False, {})\n19\n(array([-0.26047387,  0.03279576]), -1.0, False, {})\n20\n(array([-0.2284529 ,  0.03202098]), -1.0, False, {})\n21\n(array([-0.1973674,  0.0310855]), -1.0, False, {})\n22\n(array([-0.16735632,  0.03001107]), -1.0, False, {})\n"
     ]
    },
    {
     "name": "stdout",
     "output_type": "stream",
     "text": [
      "23\n(array([-0.13853672,  0.0288196 ]), -1.0, False, {})\n24\n(array([-0.11100429,  0.02753243]), -1.0, False, {})\n25\n(array([-0.08483452,  0.02616977]), -1.0, False, {})\n26\n(array([-0.06008422,  0.0247503 ]), -1.0, False, {})\n27\n(array([-0.03679341,  0.02329081]), -1.0, False, {})\n28\n(array([-0.01498739,  0.02180602]), -1.0, False, {})\n29\n(array([0.00532115, 0.02030855]), -1.0, False, {})\n30\n(array([0.02413002, 0.01880887]), -1.0, False, {})\n31\n(array([0.04144543, 0.01731541]), -1.0, False, {})\n32\n(array([0.05728014, 0.01583471]), -1.0, False, {})\n33\n(array([0.07165167, 0.01437153]), -1.0, False, {})\n34\n(array([0.08458074, 0.01292907]), -1.0, False, {})\n35\n(array([0.09608986, 0.01150912]), -1.0, False, {})\n"
     ]
    },
    {
     "name": "stdout",
     "output_type": "stream",
     "text": [
      "36\n(array([0.10620214, 0.01011228]), -1.0, False, {})\n37\n(array([0.11494023, 0.00873809]), -1.0, False, {})\n38\n(array([0.12232548, 0.00738525]), -1.0, False, {})\n39\n(array([0.12837719, 0.00605171]), -1.0, False, {})\n40\n(array([0.13311203, 0.00473484]), -1.0, False, {})\n41\n(array([0.13654357, 0.00343154]), -1.0, False, {})\n42\n(array([0.13868194, 0.00213837]), -1.0, False, {})\n43\n(array([0.13953358, 0.00085164]), -1.0, False, {})\n44\n(array([ 0.13910107, -0.00043251]), -1.0, False, {})\n45\n(array([ 0.13738309, -0.00171797]), -1.0, False, {})\n46\n(array([ 0.13437446, -0.00300863]), -1.0, False, {})\n47\n(array([ 0.13006623, -0.00430823]), -1.0, False, {})\n48\n(array([ 0.12444592, -0.00562031]), -1.0, False, {})\n"
     ]
    },
    {
     "name": "stdout",
     "output_type": "stream",
     "text": [
      "49\n(array([ 0.11749782, -0.0069481 ]), -1.0, False, {})\n0\n(array([ 0.10820343, -0.00929439]), -1.0, False, {})\n1\n(array([ 0.09653961, -0.01166383]), -1.0, False, {})\n2\n(array([ 0.0824799 , -0.01405971]), -1.0, False, {})\n3\n(array([ 0.06599633, -0.01648356]), -1.0, False, {})\n4\n(array([ 0.04706161, -0.01893473]), -1.0, False, {})\n5\n(array([ 0.02565176, -0.02140985]), -1.0, False, {})\n6\n(array([ 0.00174931, -0.02390245]), -1.0, False, {})\n7\n(array([-0.02465311, -0.02640242]), -1.0, False, {})\n8\n(array([-0.05354869, -0.02889558]), -1.0, False, {})\n9\n(array([-0.08491208, -0.03136339]), -1.0, False, {})\n10\n(array([-0.1186948 , -0.03378272]), -1.0, False, {})\n11\n(array([-0.15482069, -0.03612589]), -1.0, False, {})\n"
     ]
    },
    {
     "name": "stdout",
     "output_type": "stream",
     "text": [
      "12\n(array([-0.19318174, -0.03836105]), -1.0, False, {})\n13\n(array([-0.23363456, -0.04045283]), -1.0, False, {})\n14\n(array([-0.27599804, -0.04236347]), -1.0, False, {})\n15\n(array([-0.3200524 , -0.04405436]), -1.0, False, {})\n16\n(array([-0.36554024, -0.04548784]), -1.0, False, {})\n17\n(array([-0.41216959, -0.04662935]), -1.0, False, {})\n18\n(array([-0.45961918, -0.04744959]), -1.0, False, {})\n19\n(array([-0.50754568, -0.0479265 ]), -1.0, False, {})\n20\n(array([-0.55559253, -0.04804685]), -1.0, False, {})\n21\n(array([-0.6033998 , -0.04780727]), -1.0, False, {})\n22\n(array([-0.65061426, -0.04721446]), -1.0, False, {})\n23\n(array([-0.69689899, -0.04628473]), -1.0, False, {})\n24\n(array([-0.74194173, -0.04504274]), -1.0, False, {})\n"
     ]
    },
    {
     "name": "stdout",
     "output_type": "stream",
     "text": [
      "25\n(array([-0.78546152, -0.04351979]), -1.0, False, {})\n26\n(array([-0.82721321, -0.04175169]), -1.0, False, {})\n27\n(array([-0.86698984, -0.03977663]), -1.0, False, {})\n28\n(array([-0.904623  , -0.03763316]), -1.0, False, {})\n29\n(array([-0.93998138, -0.03535838]), -1.0, False, {})\n30\n(array([-0.97296798, -0.03298659]), -1.0, False, {})\n31\n(array([-1.0035163 , -0.03054833]), -1.0, False, {})\n32\n(array([-1.03158606, -0.02806976]), -1.0, False, {})\n33\n(array([-1.05715856, -0.0255725 ]), -1.0, False, {})\n34\n(array([-1.08023218, -0.02307362]), -1.0, False, {})\n35\n(array([-1.10081806, -0.02058588]), -1.0, False, {})\n36\n(array([-1.11893622, -0.01811816]), -1.0, False, {})\n37\n(array([-1.13461206, -0.01567583]), -1.0, False, {})\n"
     ]
    },
    {
     "name": "stdout",
     "output_type": "stream",
     "text": [
      "38\n(array([-1.14787337, -0.01326131]), -1.0, False, {})\n39\n(array([-1.15874784, -0.01087447]), -1.0, False, {})\n40\n(array([-1.16726099, -0.00851316]), -1.0, False, {})\n41\n(array([-1.17343458, -0.00617358]), -1.0, False, {})\n42\n(array([-1.1772853 , -0.00385073]), -1.0, False, {})\n43\n(array([-1.17882401, -0.0015387 ]), -1.0, False, {})\n44\n(array([-1.1780551e+00,  7.6890249e-04]), -1.0, False, {})\n45\n(array([-1.17497638,  0.00307872]), -1.0, False, {})\n46\n(array([-1.16957911,  0.00539728]), -1.0, False, {})\n47\n(array([-1.16184844,  0.00773067]), -1.0, False, {})\n48\n(array([-1.1517642 ,  0.01008424]), -1.0, False, {})\n49\n(array([-1.13930196,  0.01246224]), -1.0, False, {})\n"
     ]
    },
    {
     "name": "stdout",
     "output_type": "stream",
     "text": [
      "0\n(array([-1.12343456,  0.01586741]), -1.0, False, {})\n1\n(array([-1.10413225,  0.0193023 ]), -1.0, False, {})\n"
     ]
    },
    {
     "name": "stdout",
     "output_type": "stream",
     "text": [
      "2\n(array([-1.08136633,  0.02276592]), -1.0, False, {})\n3\n(array([-1.05511353,  0.0262528 ]), -1.0, False, {})\n"
     ]
    },
    {
     "name": "stdout",
     "output_type": "stream",
     "text": [
      "4\n(array([-1.02536143,  0.0297521 ]), -1.0, False, {})\n5\n(array([-0.99211469,  0.03324673]), -1.0, False, {})\n"
     ]
    },
    {
     "name": "stdout",
     "output_type": "stream",
     "text": [
      "6\n(array([-0.95540202,  0.03671268]), -1.0, False, {})\n7\n(array([-0.91528354,  0.04011848]), -1.0, False, {})\n"
     ]
    },
    {
     "name": "stdout",
     "output_type": "stream",
     "text": [
      "8\n(array([-0.87185828,  0.04342526]), -1.0, False, {})\n9\n(array([-0.82527099,  0.04658729]), -1.0, False, {})\n"
     ]
    },
    {
     "name": "stdout",
     "output_type": "stream",
     "text": [
      "10\n(array([-0.77571761,  0.04955338]), -1.0, False, {})\n11\n(array([-0.72344855,  0.05226907]), -1.0, False, {})\n"
     ]
    },
    {
     "name": "stdout",
     "output_type": "stream",
     "text": [
      "12\n(array([-0.6687688 ,  0.05467974]), -1.0, False, {})\n13\n(array([-0.61203438,  0.05673443]), -1.0, False, {})\n"
     ]
    },
    {
     "name": "stdout",
     "output_type": "stream",
     "text": [
      "14\n(array([-0.55364444,  0.05838994]), -1.0, False, {})\n15\n(array([-0.49402946,  0.05961498]), -1.0, False, {})\n"
     ]
    },
    {
     "name": "stdout",
     "output_type": "stream",
     "text": [
      "16\n(array([-0.43363596,  0.0603935 ]), -1.0, False, {})\n17\n(array([-0.37290902,  0.06072694]), -1.0, False, {})\n"
     ]
    },
    {
     "name": "stdout",
     "output_type": "stream",
     "text": [
      "18\n(array([-0.31227416,  0.06063487]), -1.0, False, {})\n19\n(array([-0.25212016,  0.06015399]), -1.0, True, {})\n"
     ]
    },
    {
     "name": "stdout",
     "output_type": "stream",
     "text": [
      "20\n(array([-0.19278452,  0.05933564]), -1.0, True, {})\n21\n(array([-0.13454229,  0.05824223]), -1.0, True, {})\n"
     ]
    },
    {
     "name": "stdout",
     "output_type": "stream",
     "text": [
      "22\n(array([-0.07759916,  0.05694313]), -1.0, True, {})\n23\n(array([-0.02208859,  0.05551057]), -1.0, True, {})\n"
     ]
    },
    {
     "name": "stdout",
     "output_type": "stream",
     "text": [
      "24\n(array([0.03192746, 0.05401605]), -1.0, True, {})\n25\n(array([0.08445497, 0.05252751]), -1.0, True, {})\n"
     ]
    },
    {
     "name": "stdout",
     "output_type": "stream",
     "text": [
      "26\n(array([0.1355623 , 0.05110733]), -1.0, True, {})\n27\n(array([0.18537354, 0.04981124]), -1.0, True, {})\n"
     ]
    },
    {
     "name": "stdout",
     "output_type": "stream",
     "text": [
      "28\n(array([0.2340615 , 0.04868796]), -1.0, True, {})\n29\n(array([0.28184088, 0.04777938]), -1.0, True, {})\n"
     ]
    },
    {
     "name": "stdout",
     "output_type": "stream",
     "text": [
      "30\n(array([0.3289619 , 0.04712103]), -1.0, True, {})\n31\n(array([0.37570471, 0.0467428 ]), -1.0, True, {})\n"
     ]
    },
    {
     "name": "stdout",
     "output_type": "stream",
     "text": [
      "32\n(array([0.42237434, 0.04666963]), -1.0, True, {})\n33\n(array([0.4692964 , 0.04692206]), -1.0, True, {})\n"
     ]
    },
    {
     "name": "stdout",
     "output_type": "stream",
     "text": [
      "34\n(array([0.51681299, 0.04751659]), -1.0, True, {})\n35\n(array([0.5652787, 0.0484657]), -1.0, True, {})\n"
     ]
    },
    {
     "name": "stdout",
     "output_type": "stream",
     "text": [
      "36\n(array([0.6       , 0.04977749]), -1.0, True, {})\n37\n(array([0.6       , 0.05134549]), -1.0, True, {})\n"
     ]
    },
    {
     "name": "stdout",
     "output_type": "stream",
     "text": [
      "38\n(array([0.6      , 0.0529135]), -1.0, True, {})\n39\n(array([0.6      , 0.0544815]), -1.0, True, {})\n"
     ]
    },
    {
     "name": "stdout",
     "output_type": "stream",
     "text": [
      "40\n(array([0.6       , 0.05604951]), -1.0, True, {})\n41\n(array([0.6       , 0.05761752]), -1.0, True, {})\n"
     ]
    },
    {
     "name": "stdout",
     "output_type": "stream",
     "text": [
      "42\n(array([0.6       , 0.05918552]), -1.0, True, {})\n43\n(array([0.6       , 0.06075353]), -1.0, True, {})\n"
     ]
    },
    {
     "name": "stdout",
     "output_type": "stream",
     "text": [
      "44\n(array([0.6       , 0.06232153]), -1.0, True, {})\n45\n(array([0.6       , 0.06388954]), -1.0, True, {})\n"
     ]
    },
    {
     "name": "stdout",
     "output_type": "stream",
     "text": [
      "46\n(array([0.6       , 0.06545754]), -1.0, True, {})\n47\n(array([0.6       , 0.06702555]), -1.0, True, {})\n"
     ]
    },
    {
     "name": "stdout",
     "output_type": "stream",
     "text": [
      "48\n(array([0.6       , 0.06859355]), -1.0, True, {})\n49\n(array([0.6 , 0.07]), -1.0, True, {})\n"
     ]
    },
    {
     "name": "stdout",
     "output_type": "stream",
     "text": [
      "50\n(array([0.6 , 0.07]), -1.0, True, {})\n51\n(array([0.6 , 0.07]), -1.0, True, {})\n"
     ]
    },
    {
     "name": "stdout",
     "output_type": "stream",
     "text": [
      "52\n(array([0.6 , 0.07]), -1.0, True, {})\n53\n(array([0.6 , 0.07]), -1.0, True, {})\n"
     ]
    },
    {
     "name": "stdout",
     "output_type": "stream",
     "text": [
      "54\n(array([0.6 , 0.07]), -1.0, True, {})\n55\n(array([0.6 , 0.07]), -1.0, True, {})\n"
     ]
    },
    {
     "name": "stdout",
     "output_type": "stream",
     "text": [
      "56\n(array([0.6 , 0.07]), -1.0, True, {})\n57\n(array([0.6 , 0.07]), -1.0, True, {})\n"
     ]
    },
    {
     "name": "stdout",
     "output_type": "stream",
     "text": [
      "58\n(array([0.6 , 0.07]), -1.0, True, {})\n59\n(array([0.6 , 0.07]), -1.0, True, {})\n"
     ]
    },
    {
     "name": "stdout",
     "output_type": "stream",
     "text": [
      "60\n(array([0.6 , 0.07]), -1.0, True, {})\n61\n(array([0.6 , 0.07]), -1.0, True, {})\n"
     ]
    },
    {
     "name": "stdout",
     "output_type": "stream",
     "text": [
      "62\n(array([0.6 , 0.07]), -1.0, True, {})\n63\n(array([0.6 , 0.07]), -1.0, True, {})\n"
     ]
    },
    {
     "name": "stdout",
     "output_type": "stream",
     "text": [
      "64\n(array([0.6 , 0.07]), -1.0, True, {})\n65\n(array([0.6 , 0.07]), -1.0, True, {})\n"
     ]
    },
    {
     "name": "stdout",
     "output_type": "stream",
     "text": [
      "66\n(array([0.6 , 0.07]), -1.0, True, {})\n67\n(array([0.6 , 0.07]), -1.0, True, {})\n"
     ]
    },
    {
     "name": "stdout",
     "output_type": "stream",
     "text": [
      "68\n(array([0.6 , 0.07]), -1.0, True, {})\n69\n(array([0.6 , 0.07]), -1.0, True, {})\n"
     ]
    }
   ],
   "source": [
    "env.reset()\n",
    "# env.render()\n",
    "\n",
    "\n",
    "for i in range(40):\n",
    "    env.render()\n",
    "    print(i)\n",
    "    print(env.step(2))\n",
    "for i in range(40):\n",
    "    env.render()\n",
    "    print(i)\n",
    "    print(env.step(1))\n",
    "for i in range(50): \n",
    "    env.render()\n",
    "    print(i)\n",
    "    print(env.step(2))\n",
    "for i in range(50):\n",
    "    env.render()\n",
    "    print(i)\n",
    "    print(env.step(1))\n",
    "for i in range(70):\n",
    "    env.render()\n",
    "    time.sleep(0.1)\n",
    "    print(i)\n",
    "    print(env.step(2))\n",
    "env.close()"
   ]
  },
  {
   "cell_type": "markdown",
   "metadata": {},
   "source": [
    ""
   ]
  },
  {
   "cell_type": "code",
   "execution_count": 7,
   "metadata": {},
   "outputs": [],
   "source": [
    ""
   ]
  },
  {
   "cell_type": "code",
   "execution_count": null,
   "metadata": {},
   "outputs": [],
   "source": [
    ""
   ]
  }
 ],
 "metadata": {
  "kernelspec": {
   "display_name": "Python 2",
   "language": "python",
   "name": "python2"
  },
  "language_info": {
   "codemirror_mode": {
    "name": "ipython",
    "version": 2.0
   },
   "file_extension": ".py",
   "mimetype": "text/x-python",
   "name": "python",
   "nbconvert_exporter": "python",
   "pygments_lexer": "ipython2",
   "version": "2.7.6"
  }
 },
 "nbformat": 4,
 "nbformat_minor": 0
}